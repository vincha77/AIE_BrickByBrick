{
  "cells": [
    {
      "cell_type": "markdown",
      "metadata": {
        "id": "Liog0-SdwRmw"
      },
      "source": [
        "# Advanced RAG with LlamaParse\n",
        "\n",
        "<a href=\"https://colab.research.google.com/github/run-llama/llama_parse/blob/main/examples/demo_advanced.ipynb\" target=\"_parent\"><img src=\"https://colab.research.google.com/assets/colab-badge.svg\" alt=\"Open In Colab\"/></a>\n",
        "\n",
        "This notebook is a complete walkthrough for using LlamaParse with advanced indexing/retrieval techniques in LlamaIndex over the Apple 10K Filing.\n",
        "\n",
        "This allows us to ask sophisticated questions that aren't possible with \"naive\" parsing/indexing techniques with existing models.\n",
        "\n",
        "Note for this example, we are using the `llama_index >=0.10.4` version"
      ]
    },
    {
      "cell_type": "code",
      "execution_count": 2,
      "metadata": {
        "id": "VWpU9t8QwRmy",
        "outputId": "67f4ae54-de9d-4a90-da66-0159da5be62d",
        "colab": {
          "base_uri": "https://localhost:8080/"
        }
      },
      "outputs": [
        {
          "output_type": "stream",
          "name": "stdout",
          "text": [
            "\u001b[31mERROR: pip's dependency resolver does not currently take into account all the packages that are installed. This behaviour is the source of the following dependency conflicts.\n",
            "llama-index 0.11.8 requires llama-index-core<0.12.0,>=0.11.8, but you have llama-index-core 0.10.6.post1 which is incompatible.\n",
            "llama-index-agent-openai 0.3.1 requires llama-index-core<0.12.0,>=0.11.0, but you have llama-index-core 0.10.6.post1 which is incompatible.\n",
            "llama-index-cli 0.3.1 requires llama-index-core<0.12.0,>=0.11.0, but you have llama-index-core 0.10.6.post1 which is incompatible.\n",
            "llama-index-embeddings-openai 0.2.4 requires llama-index-core<0.12.0,>=0.11.0, but you have llama-index-core 0.10.6.post1 which is incompatible.\n",
            "llama-index-indices-managed-llama-cloud 0.3.0 requires llama-index-core<0.12.0,>=0.11.0, but you have llama-index-core 0.10.6.post1 which is incompatible.\n",
            "llama-index-llms-openai 0.2.3 requires llama-index-core<0.12.0,>=0.11.7, but you have llama-index-core 0.10.6.post1 which is incompatible.\n",
            "llama-index-multi-modal-llms-openai 0.2.0 requires llama-index-core<0.12.0,>=0.11.0, but you have llama-index-core 0.10.6.post1 which is incompatible.\n",
            "llama-index-postprocessor-flag-embedding-reranker 0.2.0 requires llama-index-core<0.12.0,>=0.11.0, but you have llama-index-core 0.10.6.post1 which is incompatible.\n",
            "llama-index-program-openai 0.2.0 requires llama-index-core<0.12.0,>=0.11.0, but you have llama-index-core 0.10.6.post1 which is incompatible.\n",
            "llama-index-question-gen-openai 0.2.0 requires llama-index-core<0.12.0,>=0.11.0, but you have llama-index-core 0.10.6.post1 which is incompatible.\n",
            "llama-index-readers-file 0.2.1 requires llama-index-core<0.12.0,>=0.11.0, but you have llama-index-core 0.10.6.post1 which is incompatible.\n",
            "llama-index-readers-llama-parse 0.3.0 requires llama-index-core<0.12.0,>=0.11.0, but you have llama-index-core 0.10.6.post1 which is incompatible.\n",
            "llama-parse 0.5.5 requires llama-index-core>=0.11.0, but you have llama-index-core 0.10.6.post1 which is incompatible.\u001b[0m\u001b[31m\n",
            "\u001b[0m  Preparing metadata (setup.py) ... \u001b[?25l\u001b[?25hdone\n"
          ]
        }
      ],
      "source": [
        "!pip install -qU llama-index\n",
        "!pip install -qU llama-index-core==0.10.6.post1\n",
        "!pip install -qU llama-index-embeddings-openai\n",
        "!pip install -qU llama-index-postprocessor-flag-embedding-reranker\n",
        "!pip install -qU git+https://github.com/FlagOpen/FlagEmbedding.git\n",
        "!pip install -qU llama-parse"
      ]
    },
    {
      "cell_type": "code",
      "execution_count": 3,
      "metadata": {
        "id": "ork9T49jwRm0",
        "outputId": "58188946-e20d-48aa-ce84-575701279d87",
        "colab": {
          "base_uri": "https://localhost:8080/"
        }
      },
      "outputs": [
        {
          "output_type": "stream",
          "name": "stdout",
          "text": [
            "--2024-09-12 01:06:23--  https://s2.q4cdn.com/470004039/files/doc_financials/2021/q4/_10-K-2021-(As-Filed).pdf\n",
            "Resolving s2.q4cdn.com (s2.q4cdn.com)... 68.70.205.3, 68.70.205.2, 68.70.205.4, ...\n",
            "Connecting to s2.q4cdn.com (s2.q4cdn.com)|68.70.205.3|:443... connected.\n",
            "HTTP request sent, awaiting response... 200 OK\n",
            "Length: 789896 (771K) [application/pdf]\n",
            "Saving to: ‘apple_2021_10k.pdf’\n",
            "\n",
            "apple_2021_10k.pdf  100%[===================>] 771.38K  4.06MB/s    in 0.2s    \n",
            "\n",
            "2024-09-12 01:06:23 (4.06 MB/s) - ‘apple_2021_10k.pdf’ saved [789896/789896]\n",
            "\n"
          ]
        }
      ],
      "source": [
        "!wget \"https://s2.q4cdn.com/470004039/files/doc_financials/2021/q4/_10-K-2021-(As-Filed).pdf\" -O apple_2021_10k.pdf"
      ]
    },
    {
      "cell_type": "markdown",
      "metadata": {
        "id": "N6S0HlLlwRm0"
      },
      "source": [
        "Some OpenAI and LlamaParse details"
      ]
    },
    {
      "cell_type": "code",
      "execution_count": 5,
      "metadata": {
        "id": "O4vyETzTwRm0",
        "outputId": "16afabee-bfab-495d-d972-6a42efc22093",
        "colab": {
          "base_uri": "https://localhost:8080/"
        }
      },
      "outputs": [
        {
          "name": "stdout",
          "output_type": "stream",
          "text": [
            "Enter your LlamaIndex Cloud API Key··········\n",
            "Enter your OpenAI API Key··········\n"
          ]
        }
      ],
      "source": [
        "# llama-parse is async-first, running the async code in a notebook requires the use of nest_asyncio\n",
        "import nest_asyncio\n",
        "\n",
        "nest_asyncio.apply()\n",
        "\n",
        "import os\n",
        "import getpass\n",
        "\n",
        "# API access to llama-cloud\n",
        "os.environ[\"LLAMA_CLOUD_API_KEY\"] = getpass.getpass(\"Enter your LlamaIndex Cloud API Key\")\n",
        "\n",
        "# Using OpenAI API for embeddings/llms\n",
        "os.environ[\"OPENAI_API_KEY\"] = getpass.getpass(\"Enter your OpenAI API Key\")"
      ]
    },
    {
      "cell_type": "code",
      "execution_count": 6,
      "metadata": {
        "id": "thlfMbGJwRm1"
      },
      "outputs": [],
      "source": [
        "from llama_index.llms.openai import OpenAI\n",
        "from llama_index.embeddings.openai import OpenAIEmbedding\n",
        "from llama_index.core import VectorStoreIndex\n",
        "from llama_index.core import Settings\n",
        "\n",
        "embed_model = OpenAIEmbedding(model=\"text-embedding-3-small\")\n",
        "llm = OpenAI(model=\"gpt-3.5-turbo-0125\")\n",
        "\n",
        "Settings.llm = llm\n",
        "Settings.embed_model = embed_model"
      ]
    },
    {
      "cell_type": "markdown",
      "metadata": {
        "id": "frDFu8Y4wRm1"
      },
      "source": [
        "## Using brand new `LlamaParse` PDF reader for PDF Parsing\n",
        "\n",
        "we also compare two different retrieval/query engine strategies:\n",
        "1. Using raw Markdown text as nodes for building index and apply simple query engine for generating the results;\n",
        "2. Using `MarkdownElementNodeParser` for parsing the `LlamaParse` output Markdown results and building recursive retriever query engine for generation."
      ]
    },
    {
      "cell_type": "code",
      "execution_count": 7,
      "metadata": {
        "id": "0W2LjJh1wRm2",
        "outputId": "87269a72-fdbb-409c-da05-4a0e8ce8e261",
        "colab": {
          "base_uri": "https://localhost:8080/"
        }
      },
      "outputs": [
        {
          "output_type": "stream",
          "name": "stdout",
          "text": [
            "Started parsing the file under job_id e189ef98-2058-45c1-b2b8-a7fda9da248d\n"
          ]
        }
      ],
      "source": [
        "from llama_parse import LlamaParse\n",
        "\n",
        "documents = LlamaParse(result_type=\"markdown\").load_data(\"./apple_2021_10k.pdf\")"
      ]
    },
    {
      "cell_type": "code",
      "source": [
        "print(type(documents))"
      ],
      "metadata": {
        "id": "nM4Ot4M7x8EW",
        "outputId": "6639205e-f6e3-4493-f046-c0b3fa78cde5",
        "colab": {
          "base_uri": "https://localhost:8080/"
        }
      },
      "execution_count": 8,
      "outputs": [
        {
          "output_type": "stream",
          "name": "stdout",
          "text": [
            "<class 'list'>\n"
          ]
        }
      ]
    },
    {
      "cell_type": "code",
      "source": [
        "print(len(documents))"
      ],
      "metadata": {
        "id": "fDPKlGU7x_sj",
        "outputId": "bc476673-f225-4eb9-b53e-fd2e6740c7b2",
        "colab": {
          "base_uri": "https://localhost:8080/"
        }
      },
      "execution_count": 9,
      "outputs": [
        {
          "output_type": "stream",
          "name": "stdout",
          "text": [
            "82\n"
          ]
        }
      ]
    },
    {
      "cell_type": "code",
      "source": [
        "print(type(documents[0]))"
      ],
      "metadata": {
        "id": "_xAsJU6oyDZx",
        "outputId": "7922dc2c-722e-4015-94c1-f85082261526",
        "colab": {
          "base_uri": "https://localhost:8080/"
        }
      },
      "execution_count": 11,
      "outputs": [
        {
          "output_type": "stream",
          "name": "stdout",
          "text": [
            "<class 'llama_index.core.schema.Document'>\n"
          ]
        }
      ]
    },
    {
      "cell_type": "code",
      "source": [
        "print(dict(documents[0]).keys())"
      ],
      "metadata": {
        "id": "pTpGscK7yJ_L",
        "outputId": "d0a948d1-8f4a-41db-df8b-133de5d34340",
        "colab": {
          "base_uri": "https://localhost:8080/"
        }
      },
      "execution_count": 13,
      "outputs": [
        {
          "output_type": "stream",
          "name": "stdout",
          "text": [
            "dict_keys(['id_', 'embedding', 'metadata', 'excluded_embed_metadata_keys', 'excluded_llm_metadata_keys', 'relationships', 'text', 'mimetype', 'start_char_idx', 'end_char_idx', 'text_template', 'metadata_template', 'metadata_seperator'])\n"
          ]
        }
      ]
    },
    {
      "cell_type": "code",
      "execution_count": 14,
      "metadata": {
        "id": "v4AM8VZqwRm3"
      },
      "outputs": [],
      "source": [
        "from copy import deepcopy\n",
        "from llama_index.core.schema import TextNode\n",
        "from llama_index.core import VectorStoreIndex\n",
        "\n",
        "\n",
        "def get_page_nodes(docs, separator=\"\\n---\\n\"):\n",
        "    \"\"\"Split each document into page node, by separator.\"\"\"\n",
        "    nodes = []\n",
        "    for doc in docs:\n",
        "        doc_chunks = doc.text.split(separator)\n",
        "        for doc_chunk in doc_chunks:\n",
        "            node = TextNode(\n",
        "                text=doc_chunk,\n",
        "                metadata=deepcopy(doc.metadata),\n",
        "            )\n",
        "            nodes.append(node)\n",
        "\n",
        "    return nodes"
      ]
    },
    {
      "cell_type": "code",
      "execution_count": 15,
      "metadata": {
        "id": "Vo8RA4acwRm3"
      },
      "outputs": [],
      "source": [
        "page_nodes = get_page_nodes(documents)"
      ]
    },
    {
      "cell_type": "code",
      "execution_count": 16,
      "metadata": {
        "id": "h9YJqgOlwRm3"
      },
      "outputs": [],
      "source": [
        "from llama_index.core.node_parser import MarkdownElementNodeParser\n",
        "\n",
        "node_parser = MarkdownElementNodeParser(\n",
        "    llm=OpenAI(model=\"gpt-3.5-turbo-0125\"), num_workers=8\n",
        ")"
      ]
    },
    {
      "cell_type": "code",
      "execution_count": 17,
      "metadata": {
        "id": "4RxDbuawwRm3",
        "outputId": "4a68312c-33d4-4bc2-f409-c061a77ec816",
        "colab": {
          "base_uri": "https://localhost:8080/"
        }
      },
      "outputs": [
        {
          "output_type": "stream",
          "name": "stderr",
          "text": [
            "2it [00:00, 17962.76it/s]\n",
            "1it [00:00, 919.60it/s]\n",
            "4it [00:00, 3623.59it/s]\n",
            "0it [00:00, ?it/s]\n",
            "0it [00:00, ?it/s]\n",
            "0it [00:00, ?it/s]\n",
            "0it [00:00, ?it/s]\n",
            "0it [00:00, ?it/s]\n",
            "0it [00:00, ?it/s]\n",
            "0it [00:00, ?it/s]\n",
            "0it [00:00, ?it/s]\n",
            "0it [00:00, ?it/s]\n",
            "0it [00:00, ?it/s]\n",
            "0it [00:00, ?it/s]\n",
            "0it [00:00, ?it/s]\n",
            "0it [00:00, ?it/s]\n",
            "0it [00:00, ?it/s]\n",
            "0it [00:00, ?it/s]\n",
            "0it [00:00, ?it/s]\n",
            "0it [00:00, ?it/s]\n",
            "1it [00:00, 11915.64it/s]\n",
            "1it [00:00, 952.17it/s]\n",
            "0it [00:00, ?it/s]\n",
            "1it [00:00, 687.82it/s]\n",
            "1it [00:00, 962.00it/s]\n",
            "3it [00:00, 30102.66it/s]\n",
            "2it [00:00, 478.36it/s]\n",
            "0it [00:00, ?it/s]\n",
            "0it [00:00, ?it/s]\n",
            "0it [00:00, ?it/s]\n",
            "1it [00:00, 10782.27it/s]\n",
            "1it [00:00, 11949.58it/s]\n",
            "1it [00:00, 967.54it/s]\n",
            "1it [00:00, 9078.58it/s]\n",
            "1it [00:00, 9686.61it/s]\n",
            "5it [00:00, 5507.23it/s]\n",
            "1it [00:00, 2085.68it/s]\n",
            "0it [00:00, ?it/s]\n",
            "0it [00:00, ?it/s]\n",
            "1it [00:00, 12671.61it/s]\n",
            "2it [00:00, 16416.06it/s]\n",
            "2it [00:00, 21129.99it/s]\n",
            "3it [00:00, 2884.67it/s]\n",
            "3it [00:00, 26829.24it/s]\n",
            "2it [00:00, 3650.40it/s]\n",
            "1it [00:00, 7989.15it/s]\n",
            "2it [00:00, 22550.02it/s]\n",
            "2it [00:00, 1902.18it/s]\n",
            "1it [00:00, 941.69it/s]\n",
            "2it [00:00, 15650.39it/s]\n",
            "2it [00:00, 21788.59it/s]\n",
            "0it [00:00, ?it/s]\n",
            "2it [00:00, 4353.20it/s]\n",
            "2it [00:00, 20763.88it/s]\n",
            "0it [00:00, ?it/s]\n",
            "0it [00:00, ?it/s]\n",
            "0it [00:00, ?it/s]\n",
            "0it [00:00, ?it/s]\n",
            "0it [00:00, ?it/s]\n",
            "2it [00:00, 16039.40it/s]\n",
            "1it [00:00, 940.64it/s]\n",
            "1it [00:00, 8490.49it/s]\n",
            "1it [00:00, 8456.26it/s]\n",
            "0it [00:00, ?it/s]\n",
            "0it [00:00, ?it/s]\n",
            "0it [00:00, ?it/s]\n",
            "0it [00:00, ?it/s]\n",
            "0it [00:00, ?it/s]\n",
            "0it [00:00, ?it/s]\n",
            "0it [00:00, ?it/s]\n",
            "0it [00:00, ?it/s]\n",
            "0it [00:00, ?it/s]\n",
            "0it [00:00, ?it/s]\n",
            "0it [00:00, ?it/s]\n",
            "0it [00:00, ?it/s]\n",
            "0it [00:00, ?it/s]\n",
            "0it [00:00, ?it/s]\n",
            "1it [00:00, 13443.28it/s]\n",
            "0it [00:00, ?it/s]\n",
            "0it [00:00, ?it/s]\n",
            "0it [00:00, ?it/s]\n",
            "0it [00:00, ?it/s]\n"
          ]
        }
      ],
      "source": [
        "nodes = node_parser.get_nodes_from_documents(documents)"
      ]
    },
    {
      "cell_type": "code",
      "source": [
        "print(type(nodes))"
      ],
      "metadata": {
        "id": "eg5w7QUoy0Hs",
        "outputId": "2a761e06-4eb0-4b98-ca32-1fb6ced2bc98",
        "colab": {
          "base_uri": "https://localhost:8080/"
        }
      },
      "execution_count": 19,
      "outputs": [
        {
          "output_type": "stream",
          "name": "stdout",
          "text": [
            "<class 'list'>\n"
          ]
        }
      ]
    },
    {
      "cell_type": "code",
      "source": [
        "print(len(nodes))"
      ],
      "metadata": {
        "id": "DNq_NTtMy2_i",
        "outputId": "4fef4634-796c-47c1-bfd6-51933ed1ea35",
        "colab": {
          "base_uri": "https://localhost:8080/"
        }
      },
      "execution_count": 20,
      "outputs": [
        {
          "output_type": "stream",
          "name": "stdout",
          "text": [
            "263\n"
          ]
        }
      ]
    },
    {
      "cell_type": "code",
      "source": [
        "print(type(nodes[0]))"
      ],
      "metadata": {
        "id": "OQ72bHAHzSl1",
        "outputId": "16e63ee5-1f9f-4c3f-9e44-fc251c3e805f",
        "colab": {
          "base_uri": "https://localhost:8080/"
        }
      },
      "execution_count": 21,
      "outputs": [
        {
          "output_type": "stream",
          "name": "stdout",
          "text": [
            "<class 'llama_index.core.schema.TextNode'>\n"
          ]
        }
      ]
    },
    {
      "cell_type": "code",
      "source": [
        "print(dict(nodes[0]).keys())"
      ],
      "metadata": {
        "id": "jDqpYTS8zXLy",
        "outputId": "71326d70-81f8-4367-9a78-80d5b170bfc2",
        "colab": {
          "base_uri": "https://localhost:8080/"
        }
      },
      "execution_count": 22,
      "outputs": [
        {
          "output_type": "stream",
          "name": "stdout",
          "text": [
            "dict_keys(['id_', 'embedding', 'metadata', 'excluded_embed_metadata_keys', 'excluded_llm_metadata_keys', 'relationships', 'text', 'mimetype', 'start_char_idx', 'end_char_idx', 'text_template', 'metadata_template', 'metadata_seperator'])\n"
          ]
        }
      ]
    },
    {
      "cell_type": "code",
      "source": [
        "print(dict(nodes[0]).items())"
      ],
      "metadata": {
        "id": "gZ0CtVBuzdTa",
        "outputId": "e6bfdbe9-7a03-4c58-a2ce-5df5ce2a6e0b",
        "colab": {
          "base_uri": "https://localhost:8080/"
        }
      },
      "execution_count": 25,
      "outputs": [
        {
          "output_type": "stream",
          "name": "stdout",
          "text": [
            "dict_items([('id_', '8078449a-6974-458d-8d61-b0fa2f92c15d'), ('embedding', None), ('metadata', {}), ('excluded_embed_metadata_keys', []), ('excluded_llm_metadata_keys', []), ('relationships', {<NodeRelationship.SOURCE: '1'>: RelatedNodeInfo(node_id='56879057-0f8a-4af4-b027-6c0bcbbf14f5', node_type=<ObjectType.DOCUMENT: '4'>, metadata={}, hash='8e9fc24e7ae31d9e4baba136e3f03f08aad93d1045bee247f64d7de229d20428'), <NodeRelationship.NEXT: '3'>: RelatedNodeInfo(node_id='d0ef0d1d-3e8f-49cf-8b63-63466b2621f9', node_type=<ObjectType.INDEX: '3'>, metadata={'col_schema': 'Column: California\\nType: text\\nSummary: None\\n\\nColumn: 94-2404110\\nType: text\\nSummary: None'}, hash='5185d5642e76059e242d641ee853b16497ff520afef2420e80fc545e445875fa')}), ('text', 'UNITED STATES SECURITIES AND EXCHANGE COMMISSION\\n\\n Washington, D.C. 20549\\n\\n FORM 10-K\\n\\n(Mark One)\\n\\n☒ ANNUAL REPORT PURSUANT TO SECTION 13 OR 15(d) OF THE SECURITIES EXCHANGE ACT OF 1934\\n\\nFor the fiscal year ended September 25, 2021\\n\\nor\\n\\n☐ TRANSITION REPORT PURSUANT TO SECTION 13 OR 15(d) OF THE SECURITIES EXCHANGE ACT OF 1934\\n\\nFor the transition period from               to          .\\n\\nCommission File Number: 001-36743\\n\\n Apple Inc.\\n\\n(Exact name of Registrant as specified in its charter)'), ('mimetype', 'text/plain'), ('start_char_idx', 1), ('end_char_idx', 492), ('text_template', '{metadata_str}\\n\\n{content}'), ('metadata_template', '{key}: {value}'), ('metadata_seperator', '\\n')])\n"
          ]
        }
      ]
    },
    {
      "cell_type": "code",
      "execution_count": 18,
      "metadata": {
        "id": "ZqFlwxi1wRm3"
      },
      "outputs": [],
      "source": [
        "base_nodes, objects = node_parser.get_nodes_and_objects(nodes)"
      ]
    },
    {
      "cell_type": "code",
      "source": [
        "print(dict(base_nodes[0]).items())"
      ],
      "metadata": {
        "id": "ybm7q0Taz12J",
        "outputId": "3f37a9e7-db80-4ded-9ccf-5f8835a5d5c9",
        "colab": {
          "base_uri": "https://localhost:8080/"
        }
      },
      "execution_count": 30,
      "outputs": [
        {
          "output_type": "stream",
          "name": "stdout",
          "text": [
            "dict_items([('id_', '8078449a-6974-458d-8d61-b0fa2f92c15d'), ('embedding', None), ('metadata', {}), ('excluded_embed_metadata_keys', []), ('excluded_llm_metadata_keys', []), ('relationships', {<NodeRelationship.SOURCE: '1'>: RelatedNodeInfo(node_id='56879057-0f8a-4af4-b027-6c0bcbbf14f5', node_type=<ObjectType.DOCUMENT: '4'>, metadata={}, hash='8e9fc24e7ae31d9e4baba136e3f03f08aad93d1045bee247f64d7de229d20428'), <NodeRelationship.NEXT: '3'>: RelatedNodeInfo(node_id='d0ef0d1d-3e8f-49cf-8b63-63466b2621f9', node_type=<ObjectType.INDEX: '3'>, metadata={'col_schema': 'Column: California\\nType: text\\nSummary: None\\n\\nColumn: 94-2404110\\nType: text\\nSummary: None'}, hash='5185d5642e76059e242d641ee853b16497ff520afef2420e80fc545e445875fa')}), ('text', 'UNITED STATES SECURITIES AND EXCHANGE COMMISSION\\n\\n Washington, D.C. 20549\\n\\n FORM 10-K\\n\\n(Mark One)\\n\\n☒ ANNUAL REPORT PURSUANT TO SECTION 13 OR 15(d) OF THE SECURITIES EXCHANGE ACT OF 1934\\n\\nFor the fiscal year ended September 25, 2021\\n\\nor\\n\\n☐ TRANSITION REPORT PURSUANT TO SECTION 13 OR 15(d) OF THE SECURITIES EXCHANGE ACT OF 1934\\n\\nFor the transition period from               to          .\\n\\nCommission File Number: 001-36743\\n\\n Apple Inc.\\n\\n(Exact name of Registrant as specified in its charter)'), ('mimetype', 'text/plain'), ('start_char_idx', 1), ('end_char_idx', 492), ('text_template', '{metadata_str}\\n\\n{content}'), ('metadata_template', '{key}: {value}'), ('metadata_seperator', '\\n')])\n"
          ]
        }
      ]
    },
    {
      "cell_type": "code",
      "source": [
        "print(dict(objects[0]).items())"
      ],
      "metadata": {
        "id": "YTtxX4mq0MPg",
        "outputId": "abdb2937-0152-468d-97df-c43b71d8bcde",
        "colab": {
          "base_uri": "https://localhost:8080/"
        }
      },
      "execution_count": 34,
      "outputs": [
        {
          "output_type": "stream",
          "name": "stdout",
          "text": [
            "dict_items([('id_', 'd0ef0d1d-3e8f-49cf-8b63-63466b2621f9'), ('embedding', None), ('metadata', {'col_schema': 'Column: California\\nType: text\\nSummary: None\\n\\nColumn: 94-2404110\\nType: text\\nSummary: None'}), ('excluded_embed_metadata_keys', ['col_schema']), ('excluded_llm_metadata_keys', []), ('relationships', {<NodeRelationship.SOURCE: '1'>: RelatedNodeInfo(node_id='56879057-0f8a-4af4-b027-6c0bcbbf14f5', node_type=<ObjectType.DOCUMENT: '4'>, metadata={}, hash='8e9fc24e7ae31d9e4baba136e3f03f08aad93d1045bee247f64d7de229d20428'), <NodeRelationship.PREVIOUS: '2'>: RelatedNodeInfo(node_id='8078449a-6974-458d-8d61-b0fa2f92c15d', node_type=<ObjectType.TEXT: '1'>, metadata={}, hash='7a31757b3085897c40c7fae865530db81c84f7560d8c3de6f536b7a7343921dc'), <NodeRelationship.NEXT: '3'>: RelatedNodeInfo(node_id='c43760dd-76e1-4bfd-9b1c-45753b1c3644', node_type=<ObjectType.TEXT: '1'>, metadata={'table_df': \"{'California': {0: '(State or other jurisdiction', 1: 'of incorporation or organization)'}, '94-2404110': {0: '(I.R.S. Employer Identification No.)', 1: ' '}}\", 'table_summary': \"This table provides information about a specific entity's incorporation or organization details, including the state or jurisdiction of incorporation and the corresponding IRS Employer Identification Number.,\\nwith the following columns:\\n- California: None\\n- 94-2404110: None\\n\"}, hash='9be3735fcd8d4f5b12f739281294b62abb4e839f091622d5a2430b96567c19d2')}), ('text', \"This table provides information about a specific entity's incorporation or organization details, including the state or jurisdiction of incorporation and the corresponding IRS Employer Identification Number.,\\nwith the following columns:\\n- California: None\\n- 94-2404110: None\\n\"), ('mimetype', 'text/plain'), ('start_char_idx', 498), ('end_char_idx', 637), ('text_template', '{metadata_str}\\n\\n{content}'), ('metadata_template', '{key}: {value}'), ('metadata_seperator', '\\n'), ('index_id', 'c43760dd-76e1-4bfd-9b1c-45753b1c3644'), ('obj', TextNode(id_='c43760dd-76e1-4bfd-9b1c-45753b1c3644', embedding=None, metadata={'table_df': \"{'California': {0: '(State or other jurisdiction', 1: 'of incorporation or organization)'}, '94-2404110': {0: '(I.R.S. Employer Identification No.)', 1: ' '}}\", 'table_summary': \"This table provides information about a specific entity's incorporation or organization details, including the state or jurisdiction of incorporation and the corresponding IRS Employer Identification Number.,\\nwith the following columns:\\n- California: None\\n- 94-2404110: None\\n\"}, excluded_embed_metadata_keys=['table_df', 'table_summary'], excluded_llm_metadata_keys=['table_df', 'table_summary'], relationships={<NodeRelationship.SOURCE: '1'>: RelatedNodeInfo(node_id='56879057-0f8a-4af4-b027-6c0bcbbf14f5', node_type=<ObjectType.DOCUMENT: '4'>, metadata={}, hash='8e9fc24e7ae31d9e4baba136e3f03f08aad93d1045bee247f64d7de229d20428'), <NodeRelationship.PREVIOUS: '2'>: RelatedNodeInfo(node_id='d0ef0d1d-3e8f-49cf-8b63-63466b2621f9', node_type=<ObjectType.INDEX: '3'>, metadata={'col_schema': 'Column: California\\nType: text\\nSummary: None\\n\\nColumn: 94-2404110\\nType: text\\nSummary: None'}, hash='5185d5642e76059e242d641ee853b16497ff520afef2420e80fc545e445875fa'), <NodeRelationship.NEXT: '3'>: RelatedNodeInfo(node_id='c0028213-24e3-4e8e-8817-6e19d1d4d769', node_type=<ObjectType.TEXT: '1'>, metadata={}, hash='d0ece255598dd52a874a45e4c7bbd381d5efe66673d1b2c9598a4e00456bb7bf')}, text=\"This table provides information about a specific entity's incorporation or organization details, including the state or jurisdiction of incorporation and the corresponding IRS Employer Identification Number.,\\nwith the following columns:\\n- California: None\\n- 94-2404110: None\\n\\n|California|94-2404110|\\n|---|---|\\n|(State or other jurisdiction|(I.R.S. Employer Identification No.)|\\n|of incorporation or organization)| |\\n\", mimetype='text/plain', start_char_idx=498, end_char_idx=637, text_template='{metadata_str}\\n\\n{content}', metadata_template='{key}: {value}', metadata_seperator='\\n'))])\n"
          ]
        }
      ]
    },
    {
      "cell_type": "code",
      "execution_count": 35,
      "metadata": {
        "id": "VklfrjK6wRm4",
        "outputId": "516b8601-c9f6-4f3a-9f8a-1257349aac0a",
        "colab": {
          "base_uri": "https://localhost:8080/",
          "height": 70
        }
      },
      "outputs": [
        {
          "output_type": "execute_result",
          "data": {
            "text/plain": [
              "\"This table provides information about a specific entity's incorporation or organization details, including the state or jurisdiction of incorporation and the corresponding IRS Employer Identification Number.,\\nwith the following columns:\\n- California: None\\n- 94-2404110: None\\n\""
            ],
            "application/vnd.google.colaboratory.intrinsic+json": {
              "type": "string"
            }
          },
          "metadata": {},
          "execution_count": 35
        }
      ],
      "source": [
        "objects[0].get_content()"
      ]
    },
    {
      "cell_type": "code",
      "execution_count": 36,
      "metadata": {
        "id": "5Zw4MZISwRm4"
      },
      "outputs": [],
      "source": [
        "# dump both indexed tables and page text into the vector index\n",
        "recursive_index = VectorStoreIndex(nodes=base_nodes + objects + page_nodes)"
      ]
    },
    {
      "cell_type": "code",
      "execution_count": 37,
      "metadata": {
        "id": "YZP09tkjwRm4",
        "outputId": "7cf9d01c-e68c-4b18-dde8-9a2a68ffdca0",
        "colab": {
          "base_uri": "https://localhost:8080/"
        }
      },
      "outputs": [
        {
          "output_type": "stream",
          "name": "stdout",
          "text": [
            "# Apple Inc.\n",
            "\n",
            "# CONSOLIDATED STATEMENTS OF OPERATIONS\n",
            "\n",
            "# (In millions, except number of shares which are reflected in thousands and per share amounts)\n",
            "\n",
            "| |Years ended|September 25, 2021|September 26, 2020|September 28, 2019|\n",
            "|---|---|---|---|---|\n",
            "|Net sales:|Products|$ 297,392|$ 220,747|$ 213,883|\n",
            "| |Services|$ 68,425|$ 53,768|$ 46,291|\n",
            "| |Total net sales|$ 365,817|$ 274,515|$ 260,174|\n",
            "|Cost of sales:|Products|$ 192,266|$ 151,286|$ 144,996|\n",
            "| |Services|$ 20,715|$ 18,273|$ 16,786|\n",
            "| |Total cost of sales|$ 212,981|$ 169,559|$ 161,782|\n",
            "| |Gross margin|$ 152,836|$ 104,956|$ 98,392|\n",
            "|Operating expenses:|Research and development|$ 21,914|$ 18,752|$ 16,217|\n",
            "| |Selling, general and administrative|$ 21,973|$ 19,916|$ 18,245|\n",
            "| |Total operating expenses|$ 43,887|$ 38,668|$ 34,462|\n",
            "|Operating income| |$ 108,949|$ 66,288|$ 63,930|\n",
            "|Other income/(expense), net| |$ 258|$ 803|$ 1,807|\n",
            "|Income before provision for income taxes| |$ 109,207|$ 67,091|$ 65,737|\n",
            "|Provision for income taxes| |$ 14,527|$ 9,680|$ 10,481|\n",
            "|Net income| |$ 94,680|$ 57,411|$ 55,256|\n",
            "|Earnings per share:|Basic|$ 5.67|$ 3.31|$ 2.99|\n",
            "| |Diluted|$ 5.61|$ 3.28|$ 2.97|\n",
            "|Shares used in computing earnings per share:|Basic|16,701,272|17,352,119|18,471,336|\n",
            "| |Diluted|16,864,919|17,528,214|18,595,651|\n",
            "\n",
            "See accompanying Notes to Consolidated Financial Statements.\n",
            "\n",
            "Apple Inc. | 2021 Form 10-K | 29\n"
          ]
        }
      ],
      "source": [
        "print(page_nodes[31].get_content())"
      ]
    },
    {
      "cell_type": "code",
      "execution_count": 38,
      "metadata": {
        "id": "FGLLXwKGwRm4",
        "outputId": "b5b2187f-83f0-4002-ca7e-485f87c69801",
        "colab": {
          "base_uri": "https://localhost:8080/",
          "height": 333,
          "referenced_widgets": [
            "43d266b4e4714876a0404bb7f420746c",
            "9266bcfc235c43ff9d788216e0933ba1",
            "937c0e791674461b94ad8c6486af789a",
            "b8790f4bd72243fd908db5e91c3c7371",
            "1201f1f71f8f43eabdbebc64551117a7",
            "a6bb947ea5cb4984b22a9562cd63fc1c",
            "ed8ff88e398b42cd8a17b75b12459e27",
            "5b641bc11212475188305289b2c1034e",
            "abdb216d4381408b9f57b95e576eb036",
            "7697627dab4a49ef84342da86713e0f3",
            "8cab92d89f8e4c4fb336b0be37177eb1",
            "30dbbb4492d5480ba7e8bc049193050c",
            "1992b759a5cb41ba9227856e6fd7f04a",
            "0175dd917055482b8bf553897deefe39",
            "41056c7c94bd44789ac85057c13dc8fd",
            "56dd808f171e4910bc0208eb913bf5ec",
            "cabe181efa034ec1a33730697415c4fe",
            "0ca6105e7c6f4a89b46b62cc2edf6ffa",
            "eb408bf1c7c049a488c3a0cd4fbd4eb5",
            "b361e94a95a8417ebf361a4a0838dc96",
            "ee1750b4241541ceb62b2def25045364",
            "436c9f9ffe824c27a121a097369b1849",
            "f8c63c18b9bc410d91f55c8b925dadf6",
            "e597620503c24fbebcb4d502a1513416",
            "886de4817b444ba6ae49bbe8e9f4fdd3",
            "0c7924d31dd24a2d9447bbf6bba0edf2",
            "80b8842dd91041dfa743985df49ed1a8",
            "b74045a21b2148d5afed95201a4b4de2",
            "2f4d534f2798417fab36a3744e826282",
            "9aec7293912247bc8fa88e64f93b6ef7",
            "c4a588782b08487d91eb2eeb13d8bf90",
            "936c58cec462458cb98b3fd4b4f96197",
            "c65ef8ee3bcb452893d3cb45d55cfbdb",
            "20d93b527ab64e51a25ea1d0f4a880c3",
            "87cb34236fe1464ebb7591776e2f9d56",
            "37344277b2824e9192e417b36cf0f382",
            "32bc702ab02f42c084ae61539ef0ea81",
            "7a759acada104914b77d931db2602db1",
            "b2f54013dd9541899eaa358e7531e19c",
            "359857ae6aad4b33a0a617f4325679d5",
            "bf9c9aedd9e84beb967554edf967acee",
            "6883a05edd4645f2ba55175051cd2415",
            "6e3993041a5d4747a5ae9a691a834944",
            "ecab3fa06a66476981da29858844dad0",
            "d6b6652beeab46859a4e171941a87069",
            "385bc5c42f56424ba538e2683e70bdff",
            "4f3665e83b594e87a9c4cfe9c52fbbe4",
            "928db2d427dd475881d6ee96ac1161a6",
            "7d07e94012e7477f9129bf08aa6f910c",
            "b97f2b723982479d93d2495f799ef238",
            "a3ad1741bd6e459c8c211ac43b114246",
            "ea671036fa014c02a00eab3acdaf7f26",
            "bca1a6ac81274b3b9d3645cbc43c4dd5",
            "8a6bc32886514bdd94a9471944dc426e",
            "d3bc8e64c00c4f21bd233778637ee5be",
            "f6bb7ba5bf264734b9026b29413ded4b",
            "8d1560c9dfbf465e84b3aad993a137ea",
            "00c8cf31e3eb446fa4b070db5954e66b",
            "ec479a81c2a749d392a66d1d32b82181",
            "c7511d2406da4b19976345cdda6fb749",
            "116874bbf3b246ff80d802e0005df1bb",
            "55f7bf7f44f74eb885bd2d1671e4a515",
            "bd22d61a3a634397b84cfadb0022ef01",
            "ee4e50266c674455b2bf3e19b7f606ce",
            "489ade19561c423e967880e464bfde1d",
            "820b4d28cfea45d9bc7b4a2169d7e9a8"
          ]
        }
      },
      "outputs": [
        {
          "output_type": "stream",
          "name": "stderr",
          "text": [
            "/usr/local/lib/python3.10/dist-packages/huggingface_hub/utils/_token.py:89: UserWarning: \n",
            "The secret `HF_TOKEN` does not exist in your Colab secrets.\n",
            "To authenticate with the Hugging Face Hub, create a token in your settings tab (https://huggingface.co/settings/tokens), set it as secret in your Google Colab and restart your session.\n",
            "You will be able to reuse this secret in all of your notebooks.\n",
            "Please note that authentication is recommended but still optional to access public models or datasets.\n",
            "  warnings.warn(\n"
          ]
        },
        {
          "output_type": "display_data",
          "data": {
            "text/plain": [
              "tokenizer_config.json:   0%|          | 0.00/443 [00:00<?, ?B/s]"
            ],
            "application/vnd.jupyter.widget-view+json": {
              "version_major": 2,
              "version_minor": 0,
              "model_id": "43d266b4e4714876a0404bb7f420746c"
            }
          },
          "metadata": {}
        },
        {
          "output_type": "display_data",
          "data": {
            "text/plain": [
              "sentencepiece.bpe.model:   0%|          | 0.00/5.07M [00:00<?, ?B/s]"
            ],
            "application/vnd.jupyter.widget-view+json": {
              "version_major": 2,
              "version_minor": 0,
              "model_id": "30dbbb4492d5480ba7e8bc049193050c"
            }
          },
          "metadata": {}
        },
        {
          "output_type": "display_data",
          "data": {
            "text/plain": [
              "tokenizer.json:   0%|          | 0.00/17.1M [00:00<?, ?B/s]"
            ],
            "application/vnd.jupyter.widget-view+json": {
              "version_major": 2,
              "version_minor": 0,
              "model_id": "f8c63c18b9bc410d91f55c8b925dadf6"
            }
          },
          "metadata": {}
        },
        {
          "output_type": "display_data",
          "data": {
            "text/plain": [
              "special_tokens_map.json:   0%|          | 0.00/279 [00:00<?, ?B/s]"
            ],
            "application/vnd.jupyter.widget-view+json": {
              "version_major": 2,
              "version_minor": 0,
              "model_id": "20d93b527ab64e51a25ea1d0f4a880c3"
            }
          },
          "metadata": {}
        },
        {
          "output_type": "display_data",
          "data": {
            "text/plain": [
              "config.json:   0%|          | 0.00/801 [00:00<?, ?B/s]"
            ],
            "application/vnd.jupyter.widget-view+json": {
              "version_major": 2,
              "version_minor": 0,
              "model_id": "d6b6652beeab46859a4e171941a87069"
            }
          },
          "metadata": {}
        },
        {
          "output_type": "display_data",
          "data": {
            "text/plain": [
              "model.safetensors:   0%|          | 0.00/2.24G [00:00<?, ?B/s]"
            ],
            "application/vnd.jupyter.widget-view+json": {
              "version_major": 2,
              "version_minor": 0,
              "model_id": "f6bb7ba5bf264734b9026b29413ded4b"
            }
          },
          "metadata": {}
        }
      ],
      "source": [
        "from llama_index.postprocessor.flag_embedding_reranker import FlagEmbeddingReranker\n",
        "\n",
        "reranker = FlagEmbeddingReranker(\n",
        "    top_n=5,\n",
        "    model=\"BAAI/bge-reranker-large\",\n",
        ")\n",
        "\n",
        "recursive_query_engine = recursive_index.as_query_engine(\n",
        "    similarity_top_k=5, node_postprocessors=[reranker], verbose=True\n",
        ")"
      ]
    },
    {
      "cell_type": "code",
      "execution_count": 39,
      "metadata": {
        "id": "cnIioAZowRm4",
        "outputId": "15163414-67d9-447d-ebdf-508003a97887",
        "colab": {
          "base_uri": "https://localhost:8080/"
        }
      },
      "outputs": [
        {
          "output_type": "stream",
          "name": "stdout",
          "text": [
            "263\n"
          ]
        }
      ],
      "source": [
        "print(len(nodes))"
      ]
    },
    {
      "cell_type": "markdown",
      "metadata": {
        "id": "9cW8b14cwRm4"
      },
      "source": [
        "## Setup Baseline\n",
        "\n",
        "For comparison, we setup a naive RAG pipeline with default parsing and standard chunking, indexing, retrieval."
      ]
    },
    {
      "cell_type": "code",
      "execution_count": 40,
      "metadata": {
        "id": "yzUcc0SFwRm4"
      },
      "outputs": [],
      "source": [
        "from llama_index.core import SimpleDirectoryReader\n",
        "\n",
        "reader = SimpleDirectoryReader(input_files=[\"apple_2021_10k.pdf\"])\n",
        "base_docs = reader.load_data()\n",
        "raw_index = VectorStoreIndex.from_documents(base_docs)\n",
        "raw_query_engine = raw_index.as_query_engine(\n",
        "    similarity_top_k=5, node_postprocessors=[reranker]\n",
        ")"
      ]
    },
    {
      "cell_type": "markdown",
      "metadata": {
        "id": "3nJAxO9LwRm4"
      },
      "source": [
        "## Using `new LlamaParse` as pdf data parsing methods and retrieve tables with two different methods\n",
        "we compare base query engine vs recursive query engine with tables"
      ]
    },
    {
      "cell_type": "markdown",
      "metadata": {
        "id": "dj9rrnwJwRm4"
      },
      "source": [
        "### Table Query Task: Queries for Table Question Answering"
      ]
    },
    {
      "cell_type": "code",
      "execution_count": 41,
      "metadata": {
        "id": "i5Ln5640wRm4",
        "outputId": "6177444a-0222-4e72-a354-5cc737474dcf",
        "colab": {
          "base_uri": "https://localhost:8080/"
        }
      },
      "outputs": [
        {
          "output_type": "stream",
          "name": "stdout",
          "text": [
            "\n",
            "***********Basic Query Engine***********\n",
            "The purchases of marketable securities in 2020 amounted to $171.886 billion.\n",
            "\u001b[1;3;38;2;11;159;203mRetrieval entering f25a7114-d549-49ff-9e41-8f20f2d7303d: TextNode\n",
            "\u001b[0m\u001b[1;3;38;2;237;90;200mRetrieving from object TextNode with query Purchases of marketable securities in 2020\n",
            "\u001b[0m\n",
            "***********New LlamaParse+ Recursive Retriever Query Engine***********\n",
            "The purchases of marketable securities in 2020 amounted to $169.487 billion.\n"
          ]
        }
      ],
      "source": [
        "query = \"Purchases of marketable securities in 2020\"\n",
        "\n",
        "response_1 = raw_query_engine.query(query)\n",
        "print(\"\\n***********Basic Query Engine***********\")\n",
        "print(response_1)\n",
        "\n",
        "response_2 = recursive_query_engine.query(query)\n",
        "print(\"\\n***********New LlamaParse+ Recursive Retriever Query Engine***********\")\n",
        "print(response_2)"
      ]
    },
    {
      "cell_type": "code",
      "execution_count": 42,
      "metadata": {
        "id": "07CO0QdkwRm4",
        "outputId": "5f86a6f5-3570-455f-dff7-878cb441a507",
        "colab": {
          "base_uri": "https://localhost:8080/"
        }
      },
      "outputs": [
        {
          "output_type": "stream",
          "name": "stdout",
          "text": [
            "Apple Inc. | 2021 Form 10-K\n",
            "\n",
            " Financial Statements\n",
            "\n",
            " Dilutive Effect of Potentially Dilutive Securities\n",
            "\n",
            "The Company applies the treasury stock method to determine the dilutive effect of potentially dilutive securities. Potentially dilutive securities representing 62 million shares of common stock were excluded from the computation of diluted earnings per share for 2019 because their effect would have been antidilutive.\n",
            "\n",
            " Cash Equivalents and Marketable Securities\n",
            "\n",
            "All highly liquid investments with maturities of three months or less at the date of purchase are classified as cash equivalents.\n",
            "\n",
            "The Company’s investments in marketable debt securities have been classified and accounted for as available-for-sale. The Company classifies its marketable debt securities as either short-term or long-term based on each instrument’s underlying contractual maturity date. Unrealized gains and losses on marketable debt securities classified as available-for-sale are recognized in other comprehensive income/(loss) (“OCI”).\n",
            "\n",
            "The Company’s investments in marketable equity securities are classified based on the nature of the securities and their availability for use in current operations. The Company’s marketable equity securities are measured at fair value with gains and losses recognized in other income/(expense), net (“OI&E”).\n",
            "\n",
            "The cost of securities sold is determined using the specific identification method.\n",
            "\n",
            " Inventories\n",
            "\n",
            "Inventories are measured using the first-in, first-out method.\n",
            "\n",
            " Property, Plant and Equipment\n",
            "\n",
            "Depreciation on property, plant and equipment is recognized on a straight-line basis over the estimated useful lives of the assets, which for buildings is the lesser of 40 years or the remaining life of the building; between one and five years for machinery and equipment, including product tooling and manufacturing process equipment; and the shorter of lease term or useful life for leasehold improvements. Capitalized costs related to internal-use software are amortized on a straight-line basis over the estimated useful lives of the assets, which range from five to seven years. Depreciation and amortization expense on property and equipment was $9.5 billion, $9.7 billion and $11.3 billion during 2021, 2020 and 2019, respectively.\n",
            "\n",
            "Noncash investing activities involving property, plant and equipment resulted in a net decrease to accounts payable and other current liabilities of $2.9 billion during 2019.\n",
            "\n",
            " Restricted Cash and Restricted Marketable Securities\n",
            "\n",
            "The Company considers cash and marketable securities to be restricted when withdrawal or general use is legally restricted. The Company reports restricted cash as other assets in the Consolidated Balance Sheets, and determines current or non-current classification based on the expected duration of the restriction. The Company reports restricted marketable securities as current or non-current marketable securities in the Consolidated Balance Sheets based on the classification of the underlying securities.\n",
            "\n",
            " Derivative Instruments and Hedging\n",
            "\n",
            "All derivative instruments are recorded in the Consolidated Balance Sheets at fair value. The accounting treatment for derivative gains and losses is based on intended use and hedge designation.\n",
            "\n",
            "Gains and losses arising from amounts that are included in the assessment of cash flow hedge effectiveness are initially deferred in accumulated other comprehensive income/(loss) (“AOCI”) and subsequently reclassified into earnings when the hedged transaction affects earnings, and in the same line item in the Consolidated Statements of Operations. For options designated as cash flow hedges, the Company excludes time value from the assessment of hedge effectiveness and recognizes it on a straight-line basis over the life of the hedge in the Consolidated Statements of Operations line item to which the hedge relates. Changes in the fair value of amounts excluded from the assessment of hedge effectiveness are recognized in OCI.\n",
            "\n",
            "Gains and losses arising from amounts that are included in the assessment of fair value hedge effectiveness are recognized in the Consolidated Statements of Operations line item to which the hedge relates along with offsetting losses and gains related to the change in value of the hedged item. For foreign exchange forward contracts designated as fair value hedges, the Company excludes the forward carry component from the assessment of hedge effectiveness and recognizes it in OI&E on a straight-line basis over the life of the hedge. Changes in the fair value of amounts excluded from the assessment of hedge effectiveness are recognized in OCI.\n",
            "\n",
            "Gains and losses arising from changes in the fair values of derivative instruments that are not designated as accounting hedges are recognized in the Consolidated Statements of Operations line items to which the derivative instruments relate.\n"
          ]
        }
      ],
      "source": [
        "print(response_2.source_nodes[2].get_content())"
      ]
    },
    {
      "cell_type": "code",
      "execution_count": 43,
      "metadata": {
        "id": "KS67kHQ2wRm4",
        "outputId": "affbf215-df5c-47b8-c644-f34b414b6619",
        "colab": {
          "base_uri": "https://localhost:8080/"
        }
      },
      "outputs": [
        {
          "output_type": "stream",
          "name": "stdout",
          "text": [
            "\n",
            "***********Basic Query Engine***********\n",
            "0.75%, 1.43%, 1.43%\n",
            "\u001b[1;3;38;2;11;159;203mRetrieval entering c30aaa71-ca6c-4dd0-b40b-89f2904e4753: TextNode\n",
            "\u001b[0m\u001b[1;3;38;2;237;90;200mRetrieving from object TextNode with query effective interest rates of all debt issuances in 2021\n",
            "\u001b[0m\u001b[1;3;38;2;11;159;203mRetrieval entering 948345c1-9e8d-440b-b73c-51f65c0fdae5: TextNode\n",
            "\u001b[0m\u001b[1;3;38;2;237;90;200mRetrieving from object TextNode with query effective interest rates of all debt issuances in 2021\n",
            "\u001b[0m\n",
            "***********New LlamaParse+ Recursive Retriever Query Engine***********\n",
            "The effective interest rates of all debt issuances in 2021 ranged from 0.48% to 2.86%.\n"
          ]
        }
      ],
      "source": [
        "query = \"effective interest rates of all debt issuances in 2021\"\n",
        "\n",
        "response_1 = raw_query_engine.query(query)\n",
        "print(\"\\n***********Basic Query Engine***********\")\n",
        "print(response_1)\n",
        "\n",
        "response_2 = recursive_query_engine.query(query)\n",
        "print(\"\\n***********New LlamaParse+ Recursive Retriever Query Engine***********\")\n",
        "print(response_2)"
      ]
    },
    {
      "cell_type": "code",
      "execution_count": null,
      "metadata": {
        "id": "zS5kSbBEwRm5",
        "outputId": "6ae2c418-04e5-42f5-b7e8-55a804054d7d"
      },
      "outputs": [
        {
          "name": "stdout",
          "output_type": "stream",
          "text": [
            "Term Debt\n",
            "As of September 25, 2021 , the Company had outstanding floating- and fixed-rate notes with varying maturities for an aggregate \n",
            "principal amount of $118.1 billion  (collectively the “Notes”). The Notes are senior unsecured obligations and interest is payable in \n",
            "arrears. The following table provides a summary of the Company’s term debt as of September 25, 2021  and September 26, \n",
            "2020 :\n",
            "Maturities\n",
            "(calendar year)2021 2020\n",
            "Amount\n",
            "(in millions)Effective\n",
            "Interest RateAmount\n",
            "(in millions)Effective\n",
            "Interest Rate\n",
            "2013 – 2020 debt issuances:\n",
            "Floating-rate notes  2022 $ 1,750 0.48%  – 0.63% $ 2,250 0.60%  – 1.39%\n",
            "Fixed-rate 0.000%  – 4.650%  notes 2022  – 2060  95,813 0.03%  – 4.78%  103,828 0.03%  – 4.78%\n",
            "Second quarter 2021 debt issuance:\n",
            "Fixed-rate 0.700%  – 2.800%  notes 2026  – 2061  14,000 0.75%  – 2.81%  —  — %\n",
            "Fourth quarter 2021 debt issuance:\n",
            "Fixed-rate 1.400%  – 2.850%  notes 2028  – 2061  6,500 1.43%  – 2.86%  —  — %\n",
            "Total term debt  118,063  106,078 \n",
            "Unamortized premium/(discount) and issuance \n",
            "costs, net  (380)  (314) \n",
            "Hedge accounting fair value adjustments  1,036  1,676 \n",
            "Less: Current portion of term debt  (9,613)  (8,773) \n",
            "Total non-current portion of term debt $ 109,106 $ 98,667 \n",
            "To manage interest rate risk on certain of its U.S. dollar–denominated fixed- or floating-rate notes, the Company has entered into \n",
            "interest rate swaps to effectively convert the fixed interest rates to floating interest rates or the floating interest rates to fixed \n",
            "interest rates on a portion of these notes. Additionally, to manage foreign currency risk on certain of its foreign currency–\n",
            "denominated notes, the Company has entered into foreign currency swaps to effectively convert these notes to U.S. dollar–\n",
            "denominated notes.\n",
            "The effective interest rates for the Notes include the interest on the Notes, amortization of the discount or premium and, if \n",
            "applicable, adjustments related to hedging. The Company recogni zed $2.6 billion , $2.8 billion  and $3.2 billion  of interest expense \n",
            "on its term debt for 2021 , 2020  and 2019 , respectively.\n",
            "The future principal payments for the Company’s Notes as of September 25, 2021 , are as follows (in millions):\n",
            "2022 $ 9,583 \n",
            "2023  11,391 \n",
            "2024  10,202 \n",
            "2025  10,914 \n",
            "2026  11,408 \n",
            "Thereafter  64,565 \n",
            "Total term debt $ 118,063 \n",
            "As of September 25, 2021  and September 26, 2020 , the fair value of the Company’s Notes, based on Level 2 inputs, was $125.3 \n",
            "billion  and $117.1 billion , respectively.\n",
            "Apple Inc. | 2021  Form 10-K | 45\n"
          ]
        }
      ],
      "source": [
        "print(response_1.source_nodes[0].get_content())"
      ]
    },
    {
      "cell_type": "code",
      "execution_count": 44,
      "metadata": {
        "id": "qxzZjn7BwRm5",
        "outputId": "4f77473a-0d79-4189-c4a2-38c23ecf8639",
        "colab": {
          "base_uri": "https://localhost:8080/"
        }
      },
      "outputs": [
        {
          "output_type": "stream",
          "name": "stdout",
          "text": [
            "\n",
            "***********Basic Query Engine***********\n",
            "The U.S. Tax Cuts and Jobs Act of 2017 had an impact on income taxes in 2020, as evidenced by a decrease in the provision for income taxes compared to the prior year.\n",
            "\u001b[1;3;38;2;11;159;203mRetrieval entering 7ad8400e-f9ee-44c4-8775-e4c64364c86c: TextNode\n",
            "\u001b[0m\u001b[1;3;38;2;237;90;200mRetrieving from object TextNode with query Impacts of the U.S. Tax Cuts and Jobs Act of 2017 on income taxes in 2020\n",
            "\u001b[0m\u001b[1;3;38;2;11;159;203mRetrieval entering d13245cf-b146-4e73-a006-6e4ea039aa5c: TextNode\n",
            "\u001b[0m\u001b[1;3;38;2;237;90;200mRetrieving from object TextNode with query Impacts of the U.S. Tax Cuts and Jobs Act of 2017 on income taxes in 2020\n",
            "\u001b[0m\u001b[1;3;38;2;11;159;203mRetrieval entering cbfadbae-262f-4eab-99fc-b5df09aed6dc: TextNode\n",
            "\u001b[0m\u001b[1;3;38;2;237;90;200mRetrieving from object TextNode with query Impacts of the U.S. Tax Cuts and Jobs Act of 2017 on income taxes in 2020\n",
            "\u001b[0m\u001b[1;3;38;2;11;159;203mRetrieval entering 63d955b8-6583-491f-b16b-dc0393e50084: TextNode\n",
            "\u001b[0m\u001b[1;3;38;2;237;90;200mRetrieving from object TextNode with query Impacts of the U.S. Tax Cuts and Jobs Act of 2017 on income taxes in 2020\n",
            "\u001b[0m\u001b[1;3;38;2;11;159;203mRetrieval entering e166943a-9d99-42f2-8aef-02df5bbd3414: TextNode\n",
            "\u001b[0m\u001b[1;3;38;2;237;90;200mRetrieving from object TextNode with query Impacts of the U.S. Tax Cuts and Jobs Act of 2017 on income taxes in 2020\n",
            "\u001b[0m\n",
            "***********New LlamaParse+ Recursive Retriever Query Engine***********\n",
            "The impacts of the U.S. Tax Cuts and Jobs Act of 2017 on income taxes in 2020 resulted in a reduction of $(582) million.\n"
          ]
        }
      ],
      "source": [
        "query = \"Impacts of the U.S. Tax Cuts and Jobs Act of 2017 on income taxes in 2020\"\n",
        "\n",
        "response_1 = raw_query_engine.query(query)\n",
        "print(\"\\n***********Basic Query Engine***********\")\n",
        "print(response_1)\n",
        "\n",
        "response_2 = recursive_query_engine.query(query)\n",
        "print(\"\\n***********New LlamaParse+ Recursive Retriever Query Engine***********\")\n",
        "print(response_2)"
      ]
    },
    {
      "cell_type": "code",
      "execution_count": 46,
      "metadata": {
        "id": "f6MGO0i3wRm5",
        "outputId": "53896018-e892-43bf-af04-25ce69b1d9fb",
        "colab": {
          "base_uri": "https://localhost:8080/"
        }
      },
      "outputs": [
        {
          "output_type": "stream",
          "name": "stdout",
          "text": [
            "Other Income/(Expense), Net\n",
            "The following table shows the detail of OI&E for 2021 , 2020  and 2019  (in millions):\n",
            "2021 2020 2019\n",
            "Interest and dividend income $ 2,843 $ 3,763 $ 4,961 \n",
            "Interest expense  (2,645)  (2,873)  (3,576) \n",
            "Other income/(expense), net  60  (87)  422 \n",
            "Total other income/(expense), net $ 258 $ 803 $ 1,807 \n",
            "Note 5 – Income Taxe s\n",
            "Provision for Income Taxes and Effective  Tax Rat e\n",
            "The provision for income taxes for 2021 , 2020  and 2019 , consisted of the following (in millions):\n",
            "2021 2020 2019\n",
            "Federal:\n",
            "Current $ 8,257 $ 6,306 $ 6,384 \n",
            "Deferred  (7,176)  (3,619)  (2,939) \n",
            "Total  1,081  2,687  3,445 \n",
            "State:\n",
            "Current  1,620  455  475 \n",
            "Deferred  (338)  21  (67) \n",
            "Total  1,282  476  408 \n",
            "Foreign:\n",
            "Current  9,424  3,134  3,962 \n",
            "Deferred  2,740  3,383  2,666 \n",
            "Total  12,164  6,517  6,628 \n",
            "Provision for income taxes $ 14,527 $ 9,680 $ 10,481 \n",
            "The foreign provision for income taxes is based on foreign pretax earnings of $68.7 billion , $38.1 billion  and $44.3 billion  in 2021 , \n",
            "2020  and 2019 , respectively.\n",
            "A reconciliation of the provision for income taxes, with the amount computed by applying the statutory federal income tax  rate \n",
            "(21% in 2021 , 2020  and 2019 ) to income before provision for income taxes for 2021 , 2020  and 2019 , is as follows (dollars in \n",
            "millions):\n",
            "2021 2020 2019\n",
            "Computed expected tax $ 22,933 $ 14,089 $ 13,805 \n",
            "State taxes, net of federal effect  1,151  423  423 \n",
            "Impacts of the U.S. Tax Cuts and Jobs Act of 2017  —  (582)  — \n",
            "Earnings of foreign subsidiaries  (4,715)  (2,534)  (2,625) \n",
            "Foreign-derived intangible income deduction  (1,372)  (169)  (149) \n",
            "Research and development credit, net  (1,033)  (728)  (548) \n",
            "Excess tax benefits from equity awards  (2,137)  (930)  (639) \n",
            "Other  (300)  111  214 \n",
            "Provision for income taxes $ 14,527 $ 9,680 $ 10,481 \n",
            "Effective tax rate  13.3%  14.4%  15.9% \n",
            "Apple Inc. | 2021  Form 10-K | 41\n"
          ]
        }
      ],
      "source": [
        "print(response_1.source_nodes[0].get_content())"
      ]
    },
    {
      "cell_type": "code",
      "execution_count": 47,
      "metadata": {
        "id": "oyn17Cn2wRm5",
        "outputId": "3f97ccbb-9841-4fed-8044-f6ebda2e5385",
        "colab": {
          "base_uri": "https://localhost:8080/"
        }
      },
      "outputs": [
        {
          "output_type": "stream",
          "name": "stdout",
          "text": [
            "\n",
            "***********Basic Query Engine***********\n",
            "$3,619 million in 2019, $7,176 million in 2020, and $2,645 million in 2021.\n",
            "\u001b[1;3;38;2;11;159;203mRetrieval entering d13245cf-b146-4e73-a006-6e4ea039aa5c: TextNode\n",
            "\u001b[0m\u001b[1;3;38;2;237;90;200mRetrieving from object TextNode with query federal deferred tax in 2019-2021\n",
            "\u001b[0m\u001b[1;3;38;2;11;159;203mRetrieval entering 1e78f51e-337c-4394-b51c-44f3bf8abd19: TextNode\n",
            "\u001b[0m\u001b[1;3;38;2;237;90;200mRetrieving from object TextNode with query federal deferred tax in 2019-2021\n",
            "\u001b[0m\n",
            "***********New LlamaParse+ Recursive Retriever Query Engine***********\n",
            "$2,939 million in 2019, $3,619 million in 2020, and $(7,176) million in 2021.\n"
          ]
        }
      ],
      "source": [
        "query = \"federal deferred tax in 2019-2021\"\n",
        "\n",
        "response_1 = raw_query_engine.query(query)\n",
        "print(\"\\n***********Basic Query Engine***********\")\n",
        "print(response_1)\n",
        "\n",
        "response_2 = recursive_query_engine.query(query)\n",
        "print(\"\\n***********New LlamaParse+ Recursive Retriever Query Engine***********\")\n",
        "print(response_2)"
      ]
    },
    {
      "cell_type": "code",
      "execution_count": 48,
      "metadata": {
        "id": "WpXrq9-2wRm5",
        "outputId": "3457c824-fd42-422c-dbf6-abe5efc203d7",
        "colab": {
          "base_uri": "https://localhost:8080/"
        }
      },
      "outputs": [
        {
          "output_type": "stream",
          "name": "stdout",
          "text": [
            "\n",
            "***********Basic Query Engine***********\n",
            "$1,282 million in 2019, $476 million in 2020, -$338 million in 2021\n",
            "\u001b[1;3;38;2;11;159;203mRetrieval entering d13245cf-b146-4e73-a006-6e4ea039aa5c: TextNode\n",
            "\u001b[0m\u001b[1;3;38;2;237;90;200mRetrieving from object TextNode with query give me the deferred state income tax in 2019-2021 (include +/-)\n",
            "\u001b[0m\u001b[1;3;38;2;11;159;203mRetrieval entering 1e78f51e-337c-4394-b51c-44f3bf8abd19: TextNode\n",
            "\u001b[0m\u001b[1;3;38;2;237;90;200mRetrieving from object TextNode with query give me the deferred state income tax in 2019-2021 (include +/-)\n",
            "\u001b[0m\u001b[1;3;38;2;11;159;203mRetrieval entering cbfadbae-262f-4eab-99fc-b5df09aed6dc: TextNode\n",
            "\u001b[0m\u001b[1;3;38;2;237;90;200mRetrieving from object TextNode with query give me the deferred state income tax in 2019-2021 (include +/-)\n",
            "\u001b[0m\u001b[1;3;38;2;11;159;203mRetrieval entering 7ad8400e-f9ee-44c4-8775-e4c64364c86c: TextNode\n",
            "\u001b[0m\u001b[1;3;38;2;237;90;200mRetrieving from object TextNode with query give me the deferred state income tax in 2019-2021 (include +/-)\n",
            "\u001b[0m\n",
            "***********New LlamaParse+ Recursive Retriever Query Engine***********\n",
            "State deferred income taxes for the years 2019, 2020, and 2021 are as follows:\n",
            "- 2019: $(67) million\n",
            "- 2020: $21 million\n",
            "- 2021: $(338) million\n"
          ]
        }
      ],
      "source": [
        "query = \"give me the deferred state income tax in 2019-2021 (include +/-)\"\n",
        "\n",
        "response_1 = raw_query_engine.query(query)\n",
        "print(\"\\n***********Basic Query Engine***********\")\n",
        "print(response_1)\n",
        "\n",
        "response_2 = recursive_query_engine.query(query)\n",
        "print(\"\\n***********New LlamaParse+ Recursive Retriever Query Engine***********\")\n",
        "print(response_2)"
      ]
    },
    {
      "cell_type": "code",
      "execution_count": 49,
      "metadata": {
        "id": "PsvxQDmewRm6",
        "outputId": "2fcfc9e8-ea20-4394-b5b1-82e302c8bd11",
        "colab": {
          "base_uri": "https://localhost:8080/"
        }
      },
      "outputs": [
        {
          "output_type": "stream",
          "name": "stdout",
          "text": [
            "Summary of Federal, State, and Foreign current and deferred income taxes for the years 2019, 2020, and 2021, along with the provision for income taxes.,\n",
            "with the following columns:\n",
            "- 2021: None\n",
            "- 2020: None\n",
            "- 2019: None\n",
            "\n",
            "| |2021|2020|2019|\n",
            "|---|---|---|---|\n",
            "|Federal:| | | |\n",
            "|Current|$ 8,257|$ 6,306|$ 6,384|\n",
            "|Deferred|(7,176)|(3,619)|(2,939)|\n",
            "|Total|1,081|2,687|3,445|\n",
            "|State:| | | |\n",
            "|Current|1,620|455|475|\n",
            "|Deferred|(338)|21|(67)|\n",
            "|Total|1,282|476|408|\n",
            "|Foreign:| | | |\n",
            "|Current|9,424|3,134|3,962|\n",
            "|Deferred|2,740|3,383|2,666|\n",
            "|Total|12,164|6,517|6,628|\n",
            "|Provision for income taxes|$ 14,527|$ 9,680|$ 10,481|\n",
            "\n"
          ]
        }
      ],
      "source": [
        "print(response_2.source_nodes[0].get_content())"
      ]
    },
    {
      "cell_type": "code",
      "execution_count": 50,
      "metadata": {
        "id": "TZ4A2JKcwRm6",
        "outputId": "3780b193-fb25-48fa-bbb9-376941802d4c",
        "colab": {
          "base_uri": "https://localhost:8080/"
        }
      },
      "outputs": [
        {
          "output_type": "stream",
          "name": "stdout",
          "text": [
            "\n",
            "***********Basic Query Engine***********\n",
            "$1,620 million in 2019, $455 million in 2020, $475 million in 2021\n",
            "\u001b[1;3;38;2;11;159;203mRetrieval entering d13245cf-b146-4e73-a006-6e4ea039aa5c: TextNode\n",
            "\u001b[0m\u001b[1;3;38;2;237;90;200mRetrieving from object TextNode with query current state taxes per year in 2019-2021 (include +/-)\n",
            "\u001b[0m\u001b[1;3;38;2;11;159;203mRetrieval entering e166943a-9d99-42f2-8aef-02df5bbd3414: TextNode\n",
            "\u001b[0m\u001b[1;3;38;2;237;90;200mRetrieving from object TextNode with query current state taxes per year in 2019-2021 (include +/-)\n",
            "\u001b[0m\u001b[1;3;38;2;11;159;203mRetrieval entering 7ad8400e-f9ee-44c4-8775-e4c64364c86c: TextNode\n",
            "\u001b[0m\u001b[1;3;38;2;237;90;200mRetrieving from object TextNode with query current state taxes per year in 2019-2021 (include +/-)\n",
            "\u001b[0m\u001b[1;3;38;2;11;159;203mRetrieval entering 69f5f95f-90b9-463d-b3cb-e0269215f735: TextNode\n",
            "\u001b[0m\u001b[1;3;38;2;237;90;200mRetrieving from object TextNode with query current state taxes per year in 2019-2021 (include +/-)\n",
            "\u001b[0m\u001b[1;3;38;2;11;159;203mRetrieval entering cbfadbae-262f-4eab-99fc-b5df09aed6dc: TextNode\n",
            "\u001b[0m\u001b[1;3;38;2;237;90;200mRetrieving from object TextNode with query current state taxes per year in 2019-2021 (include +/-)\n",
            "\u001b[0m\n",
            "***********New LlamaParse+ Recursive Retriever Query Engine***********\n",
            "475 (2019), 455 (2020), 1,620 (2021)\n"
          ]
        }
      ],
      "source": [
        "query = \"current state taxes per year in 2019-2021 (include +/-)\"\n",
        "\n",
        "response_1 = raw_query_engine.query(query)\n",
        "print(\"\\n***********Basic Query Engine***********\")\n",
        "print(response_1)\n",
        "\n",
        "response_2 = recursive_query_engine.query(query)\n",
        "print(\"\\n***********New LlamaParse+ Recursive Retriever Query Engine***********\")\n",
        "print(response_2)"
      ]
    }
  ],
  "metadata": {
    "kernelspec": {
      "display_name": "llama_parse",
      "language": "python",
      "name": "llama_parse"
    },
    "language_info": {
      "codemirror_mode": {
        "name": "ipython",
        "version": 3
      },
      "file_extension": ".py",
      "mimetype": "text/x-python",
      "name": "python",
      "nbconvert_exporter": "python",
      "pygments_lexer": "ipython3"
    },
    "colab": {
      "provenance": [],
      "gpuType": "T4"
    },
    "accelerator": "GPU",
    "widgets": {
      "application/vnd.jupyter.widget-state+json": {
        "43d266b4e4714876a0404bb7f420746c": {
          "model_module": "@jupyter-widgets/controls",
          "model_name": "HBoxModel",
          "model_module_version": "1.5.0",
          "state": {
            "_dom_classes": [],
            "_model_module": "@jupyter-widgets/controls",
            "_model_module_version": "1.5.0",
            "_model_name": "HBoxModel",
            "_view_count": null,
            "_view_module": "@jupyter-widgets/controls",
            "_view_module_version": "1.5.0",
            "_view_name": "HBoxView",
            "box_style": "",
            "children": [
              "IPY_MODEL_9266bcfc235c43ff9d788216e0933ba1",
              "IPY_MODEL_937c0e791674461b94ad8c6486af789a",
              "IPY_MODEL_b8790f4bd72243fd908db5e91c3c7371"
            ],
            "layout": "IPY_MODEL_1201f1f71f8f43eabdbebc64551117a7"
          }
        },
        "9266bcfc235c43ff9d788216e0933ba1": {
          "model_module": "@jupyter-widgets/controls",
          "model_name": "HTMLModel",
          "model_module_version": "1.5.0",
          "state": {
            "_dom_classes": [],
            "_model_module": "@jupyter-widgets/controls",
            "_model_module_version": "1.5.0",
            "_model_name": "HTMLModel",
            "_view_count": null,
            "_view_module": "@jupyter-widgets/controls",
            "_view_module_version": "1.5.0",
            "_view_name": "HTMLView",
            "description": "",
            "description_tooltip": null,
            "layout": "IPY_MODEL_a6bb947ea5cb4984b22a9562cd63fc1c",
            "placeholder": "​",
            "style": "IPY_MODEL_ed8ff88e398b42cd8a17b75b12459e27",
            "value": "tokenizer_config.json: 100%"
          }
        },
        "937c0e791674461b94ad8c6486af789a": {
          "model_module": "@jupyter-widgets/controls",
          "model_name": "FloatProgressModel",
          "model_module_version": "1.5.0",
          "state": {
            "_dom_classes": [],
            "_model_module": "@jupyter-widgets/controls",
            "_model_module_version": "1.5.0",
            "_model_name": "FloatProgressModel",
            "_view_count": null,
            "_view_module": "@jupyter-widgets/controls",
            "_view_module_version": "1.5.0",
            "_view_name": "ProgressView",
            "bar_style": "success",
            "description": "",
            "description_tooltip": null,
            "layout": "IPY_MODEL_5b641bc11212475188305289b2c1034e",
            "max": 443,
            "min": 0,
            "orientation": "horizontal",
            "style": "IPY_MODEL_abdb216d4381408b9f57b95e576eb036",
            "value": 443
          }
        },
        "b8790f4bd72243fd908db5e91c3c7371": {
          "model_module": "@jupyter-widgets/controls",
          "model_name": "HTMLModel",
          "model_module_version": "1.5.0",
          "state": {
            "_dom_classes": [],
            "_model_module": "@jupyter-widgets/controls",
            "_model_module_version": "1.5.0",
            "_model_name": "HTMLModel",
            "_view_count": null,
            "_view_module": "@jupyter-widgets/controls",
            "_view_module_version": "1.5.0",
            "_view_name": "HTMLView",
            "description": "",
            "description_tooltip": null,
            "layout": "IPY_MODEL_7697627dab4a49ef84342da86713e0f3",
            "placeholder": "​",
            "style": "IPY_MODEL_8cab92d89f8e4c4fb336b0be37177eb1",
            "value": " 443/443 [00:00&lt;00:00, 27.1kB/s]"
          }
        },
        "1201f1f71f8f43eabdbebc64551117a7": {
          "model_module": "@jupyter-widgets/base",
          "model_name": "LayoutModel",
          "model_module_version": "1.2.0",
          "state": {
            "_model_module": "@jupyter-widgets/base",
            "_model_module_version": "1.2.0",
            "_model_name": "LayoutModel",
            "_view_count": null,
            "_view_module": "@jupyter-widgets/base",
            "_view_module_version": "1.2.0",
            "_view_name": "LayoutView",
            "align_content": null,
            "align_items": null,
            "align_self": null,
            "border": null,
            "bottom": null,
            "display": null,
            "flex": null,
            "flex_flow": null,
            "grid_area": null,
            "grid_auto_columns": null,
            "grid_auto_flow": null,
            "grid_auto_rows": null,
            "grid_column": null,
            "grid_gap": null,
            "grid_row": null,
            "grid_template_areas": null,
            "grid_template_columns": null,
            "grid_template_rows": null,
            "height": null,
            "justify_content": null,
            "justify_items": null,
            "left": null,
            "margin": null,
            "max_height": null,
            "max_width": null,
            "min_height": null,
            "min_width": null,
            "object_fit": null,
            "object_position": null,
            "order": null,
            "overflow": null,
            "overflow_x": null,
            "overflow_y": null,
            "padding": null,
            "right": null,
            "top": null,
            "visibility": null,
            "width": null
          }
        },
        "a6bb947ea5cb4984b22a9562cd63fc1c": {
          "model_module": "@jupyter-widgets/base",
          "model_name": "LayoutModel",
          "model_module_version": "1.2.0",
          "state": {
            "_model_module": "@jupyter-widgets/base",
            "_model_module_version": "1.2.0",
            "_model_name": "LayoutModel",
            "_view_count": null,
            "_view_module": "@jupyter-widgets/base",
            "_view_module_version": "1.2.0",
            "_view_name": "LayoutView",
            "align_content": null,
            "align_items": null,
            "align_self": null,
            "border": null,
            "bottom": null,
            "display": null,
            "flex": null,
            "flex_flow": null,
            "grid_area": null,
            "grid_auto_columns": null,
            "grid_auto_flow": null,
            "grid_auto_rows": null,
            "grid_column": null,
            "grid_gap": null,
            "grid_row": null,
            "grid_template_areas": null,
            "grid_template_columns": null,
            "grid_template_rows": null,
            "height": null,
            "justify_content": null,
            "justify_items": null,
            "left": null,
            "margin": null,
            "max_height": null,
            "max_width": null,
            "min_height": null,
            "min_width": null,
            "object_fit": null,
            "object_position": null,
            "order": null,
            "overflow": null,
            "overflow_x": null,
            "overflow_y": null,
            "padding": null,
            "right": null,
            "top": null,
            "visibility": null,
            "width": null
          }
        },
        "ed8ff88e398b42cd8a17b75b12459e27": {
          "model_module": "@jupyter-widgets/controls",
          "model_name": "DescriptionStyleModel",
          "model_module_version": "1.5.0",
          "state": {
            "_model_module": "@jupyter-widgets/controls",
            "_model_module_version": "1.5.0",
            "_model_name": "DescriptionStyleModel",
            "_view_count": null,
            "_view_module": "@jupyter-widgets/base",
            "_view_module_version": "1.2.0",
            "_view_name": "StyleView",
            "description_width": ""
          }
        },
        "5b641bc11212475188305289b2c1034e": {
          "model_module": "@jupyter-widgets/base",
          "model_name": "LayoutModel",
          "model_module_version": "1.2.0",
          "state": {
            "_model_module": "@jupyter-widgets/base",
            "_model_module_version": "1.2.0",
            "_model_name": "LayoutModel",
            "_view_count": null,
            "_view_module": "@jupyter-widgets/base",
            "_view_module_version": "1.2.0",
            "_view_name": "LayoutView",
            "align_content": null,
            "align_items": null,
            "align_self": null,
            "border": null,
            "bottom": null,
            "display": null,
            "flex": null,
            "flex_flow": null,
            "grid_area": null,
            "grid_auto_columns": null,
            "grid_auto_flow": null,
            "grid_auto_rows": null,
            "grid_column": null,
            "grid_gap": null,
            "grid_row": null,
            "grid_template_areas": null,
            "grid_template_columns": null,
            "grid_template_rows": null,
            "height": null,
            "justify_content": null,
            "justify_items": null,
            "left": null,
            "margin": null,
            "max_height": null,
            "max_width": null,
            "min_height": null,
            "min_width": null,
            "object_fit": null,
            "object_position": null,
            "order": null,
            "overflow": null,
            "overflow_x": null,
            "overflow_y": null,
            "padding": null,
            "right": null,
            "top": null,
            "visibility": null,
            "width": null
          }
        },
        "abdb216d4381408b9f57b95e576eb036": {
          "model_module": "@jupyter-widgets/controls",
          "model_name": "ProgressStyleModel",
          "model_module_version": "1.5.0",
          "state": {
            "_model_module": "@jupyter-widgets/controls",
            "_model_module_version": "1.5.0",
            "_model_name": "ProgressStyleModel",
            "_view_count": null,
            "_view_module": "@jupyter-widgets/base",
            "_view_module_version": "1.2.0",
            "_view_name": "StyleView",
            "bar_color": null,
            "description_width": ""
          }
        },
        "7697627dab4a49ef84342da86713e0f3": {
          "model_module": "@jupyter-widgets/base",
          "model_name": "LayoutModel",
          "model_module_version": "1.2.0",
          "state": {
            "_model_module": "@jupyter-widgets/base",
            "_model_module_version": "1.2.0",
            "_model_name": "LayoutModel",
            "_view_count": null,
            "_view_module": "@jupyter-widgets/base",
            "_view_module_version": "1.2.0",
            "_view_name": "LayoutView",
            "align_content": null,
            "align_items": null,
            "align_self": null,
            "border": null,
            "bottom": null,
            "display": null,
            "flex": null,
            "flex_flow": null,
            "grid_area": null,
            "grid_auto_columns": null,
            "grid_auto_flow": null,
            "grid_auto_rows": null,
            "grid_column": null,
            "grid_gap": null,
            "grid_row": null,
            "grid_template_areas": null,
            "grid_template_columns": null,
            "grid_template_rows": null,
            "height": null,
            "justify_content": null,
            "justify_items": null,
            "left": null,
            "margin": null,
            "max_height": null,
            "max_width": null,
            "min_height": null,
            "min_width": null,
            "object_fit": null,
            "object_position": null,
            "order": null,
            "overflow": null,
            "overflow_x": null,
            "overflow_y": null,
            "padding": null,
            "right": null,
            "top": null,
            "visibility": null,
            "width": null
          }
        },
        "8cab92d89f8e4c4fb336b0be37177eb1": {
          "model_module": "@jupyter-widgets/controls",
          "model_name": "DescriptionStyleModel",
          "model_module_version": "1.5.0",
          "state": {
            "_model_module": "@jupyter-widgets/controls",
            "_model_module_version": "1.5.0",
            "_model_name": "DescriptionStyleModel",
            "_view_count": null,
            "_view_module": "@jupyter-widgets/base",
            "_view_module_version": "1.2.0",
            "_view_name": "StyleView",
            "description_width": ""
          }
        },
        "30dbbb4492d5480ba7e8bc049193050c": {
          "model_module": "@jupyter-widgets/controls",
          "model_name": "HBoxModel",
          "model_module_version": "1.5.0",
          "state": {
            "_dom_classes": [],
            "_model_module": "@jupyter-widgets/controls",
            "_model_module_version": "1.5.0",
            "_model_name": "HBoxModel",
            "_view_count": null,
            "_view_module": "@jupyter-widgets/controls",
            "_view_module_version": "1.5.0",
            "_view_name": "HBoxView",
            "box_style": "",
            "children": [
              "IPY_MODEL_1992b759a5cb41ba9227856e6fd7f04a",
              "IPY_MODEL_0175dd917055482b8bf553897deefe39",
              "IPY_MODEL_41056c7c94bd44789ac85057c13dc8fd"
            ],
            "layout": "IPY_MODEL_56dd808f171e4910bc0208eb913bf5ec"
          }
        },
        "1992b759a5cb41ba9227856e6fd7f04a": {
          "model_module": "@jupyter-widgets/controls",
          "model_name": "HTMLModel",
          "model_module_version": "1.5.0",
          "state": {
            "_dom_classes": [],
            "_model_module": "@jupyter-widgets/controls",
            "_model_module_version": "1.5.0",
            "_model_name": "HTMLModel",
            "_view_count": null,
            "_view_module": "@jupyter-widgets/controls",
            "_view_module_version": "1.5.0",
            "_view_name": "HTMLView",
            "description": "",
            "description_tooltip": null,
            "layout": "IPY_MODEL_cabe181efa034ec1a33730697415c4fe",
            "placeholder": "​",
            "style": "IPY_MODEL_0ca6105e7c6f4a89b46b62cc2edf6ffa",
            "value": "sentencepiece.bpe.model: 100%"
          }
        },
        "0175dd917055482b8bf553897deefe39": {
          "model_module": "@jupyter-widgets/controls",
          "model_name": "FloatProgressModel",
          "model_module_version": "1.5.0",
          "state": {
            "_dom_classes": [],
            "_model_module": "@jupyter-widgets/controls",
            "_model_module_version": "1.5.0",
            "_model_name": "FloatProgressModel",
            "_view_count": null,
            "_view_module": "@jupyter-widgets/controls",
            "_view_module_version": "1.5.0",
            "_view_name": "ProgressView",
            "bar_style": "success",
            "description": "",
            "description_tooltip": null,
            "layout": "IPY_MODEL_eb408bf1c7c049a488c3a0cd4fbd4eb5",
            "max": 5069051,
            "min": 0,
            "orientation": "horizontal",
            "style": "IPY_MODEL_b361e94a95a8417ebf361a4a0838dc96",
            "value": 5069051
          }
        },
        "41056c7c94bd44789ac85057c13dc8fd": {
          "model_module": "@jupyter-widgets/controls",
          "model_name": "HTMLModel",
          "model_module_version": "1.5.0",
          "state": {
            "_dom_classes": [],
            "_model_module": "@jupyter-widgets/controls",
            "_model_module_version": "1.5.0",
            "_model_name": "HTMLModel",
            "_view_count": null,
            "_view_module": "@jupyter-widgets/controls",
            "_view_module_version": "1.5.0",
            "_view_name": "HTMLView",
            "description": "",
            "description_tooltip": null,
            "layout": "IPY_MODEL_ee1750b4241541ceb62b2def25045364",
            "placeholder": "​",
            "style": "IPY_MODEL_436c9f9ffe824c27a121a097369b1849",
            "value": " 5.07M/5.07M [00:00&lt;00:00, 30.5MB/s]"
          }
        },
        "56dd808f171e4910bc0208eb913bf5ec": {
          "model_module": "@jupyter-widgets/base",
          "model_name": "LayoutModel",
          "model_module_version": "1.2.0",
          "state": {
            "_model_module": "@jupyter-widgets/base",
            "_model_module_version": "1.2.0",
            "_model_name": "LayoutModel",
            "_view_count": null,
            "_view_module": "@jupyter-widgets/base",
            "_view_module_version": "1.2.0",
            "_view_name": "LayoutView",
            "align_content": null,
            "align_items": null,
            "align_self": null,
            "border": null,
            "bottom": null,
            "display": null,
            "flex": null,
            "flex_flow": null,
            "grid_area": null,
            "grid_auto_columns": null,
            "grid_auto_flow": null,
            "grid_auto_rows": null,
            "grid_column": null,
            "grid_gap": null,
            "grid_row": null,
            "grid_template_areas": null,
            "grid_template_columns": null,
            "grid_template_rows": null,
            "height": null,
            "justify_content": null,
            "justify_items": null,
            "left": null,
            "margin": null,
            "max_height": null,
            "max_width": null,
            "min_height": null,
            "min_width": null,
            "object_fit": null,
            "object_position": null,
            "order": null,
            "overflow": null,
            "overflow_x": null,
            "overflow_y": null,
            "padding": null,
            "right": null,
            "top": null,
            "visibility": null,
            "width": null
          }
        },
        "cabe181efa034ec1a33730697415c4fe": {
          "model_module": "@jupyter-widgets/base",
          "model_name": "LayoutModel",
          "model_module_version": "1.2.0",
          "state": {
            "_model_module": "@jupyter-widgets/base",
            "_model_module_version": "1.2.0",
            "_model_name": "LayoutModel",
            "_view_count": null,
            "_view_module": "@jupyter-widgets/base",
            "_view_module_version": "1.2.0",
            "_view_name": "LayoutView",
            "align_content": null,
            "align_items": null,
            "align_self": null,
            "border": null,
            "bottom": null,
            "display": null,
            "flex": null,
            "flex_flow": null,
            "grid_area": null,
            "grid_auto_columns": null,
            "grid_auto_flow": null,
            "grid_auto_rows": null,
            "grid_column": null,
            "grid_gap": null,
            "grid_row": null,
            "grid_template_areas": null,
            "grid_template_columns": null,
            "grid_template_rows": null,
            "height": null,
            "justify_content": null,
            "justify_items": null,
            "left": null,
            "margin": null,
            "max_height": null,
            "max_width": null,
            "min_height": null,
            "min_width": null,
            "object_fit": null,
            "object_position": null,
            "order": null,
            "overflow": null,
            "overflow_x": null,
            "overflow_y": null,
            "padding": null,
            "right": null,
            "top": null,
            "visibility": null,
            "width": null
          }
        },
        "0ca6105e7c6f4a89b46b62cc2edf6ffa": {
          "model_module": "@jupyter-widgets/controls",
          "model_name": "DescriptionStyleModel",
          "model_module_version": "1.5.0",
          "state": {
            "_model_module": "@jupyter-widgets/controls",
            "_model_module_version": "1.5.0",
            "_model_name": "DescriptionStyleModel",
            "_view_count": null,
            "_view_module": "@jupyter-widgets/base",
            "_view_module_version": "1.2.0",
            "_view_name": "StyleView",
            "description_width": ""
          }
        },
        "eb408bf1c7c049a488c3a0cd4fbd4eb5": {
          "model_module": "@jupyter-widgets/base",
          "model_name": "LayoutModel",
          "model_module_version": "1.2.0",
          "state": {
            "_model_module": "@jupyter-widgets/base",
            "_model_module_version": "1.2.0",
            "_model_name": "LayoutModel",
            "_view_count": null,
            "_view_module": "@jupyter-widgets/base",
            "_view_module_version": "1.2.0",
            "_view_name": "LayoutView",
            "align_content": null,
            "align_items": null,
            "align_self": null,
            "border": null,
            "bottom": null,
            "display": null,
            "flex": null,
            "flex_flow": null,
            "grid_area": null,
            "grid_auto_columns": null,
            "grid_auto_flow": null,
            "grid_auto_rows": null,
            "grid_column": null,
            "grid_gap": null,
            "grid_row": null,
            "grid_template_areas": null,
            "grid_template_columns": null,
            "grid_template_rows": null,
            "height": null,
            "justify_content": null,
            "justify_items": null,
            "left": null,
            "margin": null,
            "max_height": null,
            "max_width": null,
            "min_height": null,
            "min_width": null,
            "object_fit": null,
            "object_position": null,
            "order": null,
            "overflow": null,
            "overflow_x": null,
            "overflow_y": null,
            "padding": null,
            "right": null,
            "top": null,
            "visibility": null,
            "width": null
          }
        },
        "b361e94a95a8417ebf361a4a0838dc96": {
          "model_module": "@jupyter-widgets/controls",
          "model_name": "ProgressStyleModel",
          "model_module_version": "1.5.0",
          "state": {
            "_model_module": "@jupyter-widgets/controls",
            "_model_module_version": "1.5.0",
            "_model_name": "ProgressStyleModel",
            "_view_count": null,
            "_view_module": "@jupyter-widgets/base",
            "_view_module_version": "1.2.0",
            "_view_name": "StyleView",
            "bar_color": null,
            "description_width": ""
          }
        },
        "ee1750b4241541ceb62b2def25045364": {
          "model_module": "@jupyter-widgets/base",
          "model_name": "LayoutModel",
          "model_module_version": "1.2.0",
          "state": {
            "_model_module": "@jupyter-widgets/base",
            "_model_module_version": "1.2.0",
            "_model_name": "LayoutModel",
            "_view_count": null,
            "_view_module": "@jupyter-widgets/base",
            "_view_module_version": "1.2.0",
            "_view_name": "LayoutView",
            "align_content": null,
            "align_items": null,
            "align_self": null,
            "border": null,
            "bottom": null,
            "display": null,
            "flex": null,
            "flex_flow": null,
            "grid_area": null,
            "grid_auto_columns": null,
            "grid_auto_flow": null,
            "grid_auto_rows": null,
            "grid_column": null,
            "grid_gap": null,
            "grid_row": null,
            "grid_template_areas": null,
            "grid_template_columns": null,
            "grid_template_rows": null,
            "height": null,
            "justify_content": null,
            "justify_items": null,
            "left": null,
            "margin": null,
            "max_height": null,
            "max_width": null,
            "min_height": null,
            "min_width": null,
            "object_fit": null,
            "object_position": null,
            "order": null,
            "overflow": null,
            "overflow_x": null,
            "overflow_y": null,
            "padding": null,
            "right": null,
            "top": null,
            "visibility": null,
            "width": null
          }
        },
        "436c9f9ffe824c27a121a097369b1849": {
          "model_module": "@jupyter-widgets/controls",
          "model_name": "DescriptionStyleModel",
          "model_module_version": "1.5.0",
          "state": {
            "_model_module": "@jupyter-widgets/controls",
            "_model_module_version": "1.5.0",
            "_model_name": "DescriptionStyleModel",
            "_view_count": null,
            "_view_module": "@jupyter-widgets/base",
            "_view_module_version": "1.2.0",
            "_view_name": "StyleView",
            "description_width": ""
          }
        },
        "f8c63c18b9bc410d91f55c8b925dadf6": {
          "model_module": "@jupyter-widgets/controls",
          "model_name": "HBoxModel",
          "model_module_version": "1.5.0",
          "state": {
            "_dom_classes": [],
            "_model_module": "@jupyter-widgets/controls",
            "_model_module_version": "1.5.0",
            "_model_name": "HBoxModel",
            "_view_count": null,
            "_view_module": "@jupyter-widgets/controls",
            "_view_module_version": "1.5.0",
            "_view_name": "HBoxView",
            "box_style": "",
            "children": [
              "IPY_MODEL_e597620503c24fbebcb4d502a1513416",
              "IPY_MODEL_886de4817b444ba6ae49bbe8e9f4fdd3",
              "IPY_MODEL_0c7924d31dd24a2d9447bbf6bba0edf2"
            ],
            "layout": "IPY_MODEL_80b8842dd91041dfa743985df49ed1a8"
          }
        },
        "e597620503c24fbebcb4d502a1513416": {
          "model_module": "@jupyter-widgets/controls",
          "model_name": "HTMLModel",
          "model_module_version": "1.5.0",
          "state": {
            "_dom_classes": [],
            "_model_module": "@jupyter-widgets/controls",
            "_model_module_version": "1.5.0",
            "_model_name": "HTMLModel",
            "_view_count": null,
            "_view_module": "@jupyter-widgets/controls",
            "_view_module_version": "1.5.0",
            "_view_name": "HTMLView",
            "description": "",
            "description_tooltip": null,
            "layout": "IPY_MODEL_b74045a21b2148d5afed95201a4b4de2",
            "placeholder": "​",
            "style": "IPY_MODEL_2f4d534f2798417fab36a3744e826282",
            "value": "tokenizer.json: 100%"
          }
        },
        "886de4817b444ba6ae49bbe8e9f4fdd3": {
          "model_module": "@jupyter-widgets/controls",
          "model_name": "FloatProgressModel",
          "model_module_version": "1.5.0",
          "state": {
            "_dom_classes": [],
            "_model_module": "@jupyter-widgets/controls",
            "_model_module_version": "1.5.0",
            "_model_name": "FloatProgressModel",
            "_view_count": null,
            "_view_module": "@jupyter-widgets/controls",
            "_view_module_version": "1.5.0",
            "_view_name": "ProgressView",
            "bar_style": "success",
            "description": "",
            "description_tooltip": null,
            "layout": "IPY_MODEL_9aec7293912247bc8fa88e64f93b6ef7",
            "max": 17098107,
            "min": 0,
            "orientation": "horizontal",
            "style": "IPY_MODEL_c4a588782b08487d91eb2eeb13d8bf90",
            "value": 17098107
          }
        },
        "0c7924d31dd24a2d9447bbf6bba0edf2": {
          "model_module": "@jupyter-widgets/controls",
          "model_name": "HTMLModel",
          "model_module_version": "1.5.0",
          "state": {
            "_dom_classes": [],
            "_model_module": "@jupyter-widgets/controls",
            "_model_module_version": "1.5.0",
            "_model_name": "HTMLModel",
            "_view_count": null,
            "_view_module": "@jupyter-widgets/controls",
            "_view_module_version": "1.5.0",
            "_view_name": "HTMLView",
            "description": "",
            "description_tooltip": null,
            "layout": "IPY_MODEL_936c58cec462458cb98b3fd4b4f96197",
            "placeholder": "​",
            "style": "IPY_MODEL_c65ef8ee3bcb452893d3cb45d55cfbdb",
            "value": " 17.1M/17.1M [00:00&lt;00:00, 100MB/s]"
          }
        },
        "80b8842dd91041dfa743985df49ed1a8": {
          "model_module": "@jupyter-widgets/base",
          "model_name": "LayoutModel",
          "model_module_version": "1.2.0",
          "state": {
            "_model_module": "@jupyter-widgets/base",
            "_model_module_version": "1.2.0",
            "_model_name": "LayoutModel",
            "_view_count": null,
            "_view_module": "@jupyter-widgets/base",
            "_view_module_version": "1.2.0",
            "_view_name": "LayoutView",
            "align_content": null,
            "align_items": null,
            "align_self": null,
            "border": null,
            "bottom": null,
            "display": null,
            "flex": null,
            "flex_flow": null,
            "grid_area": null,
            "grid_auto_columns": null,
            "grid_auto_flow": null,
            "grid_auto_rows": null,
            "grid_column": null,
            "grid_gap": null,
            "grid_row": null,
            "grid_template_areas": null,
            "grid_template_columns": null,
            "grid_template_rows": null,
            "height": null,
            "justify_content": null,
            "justify_items": null,
            "left": null,
            "margin": null,
            "max_height": null,
            "max_width": null,
            "min_height": null,
            "min_width": null,
            "object_fit": null,
            "object_position": null,
            "order": null,
            "overflow": null,
            "overflow_x": null,
            "overflow_y": null,
            "padding": null,
            "right": null,
            "top": null,
            "visibility": null,
            "width": null
          }
        },
        "b74045a21b2148d5afed95201a4b4de2": {
          "model_module": "@jupyter-widgets/base",
          "model_name": "LayoutModel",
          "model_module_version": "1.2.0",
          "state": {
            "_model_module": "@jupyter-widgets/base",
            "_model_module_version": "1.2.0",
            "_model_name": "LayoutModel",
            "_view_count": null,
            "_view_module": "@jupyter-widgets/base",
            "_view_module_version": "1.2.0",
            "_view_name": "LayoutView",
            "align_content": null,
            "align_items": null,
            "align_self": null,
            "border": null,
            "bottom": null,
            "display": null,
            "flex": null,
            "flex_flow": null,
            "grid_area": null,
            "grid_auto_columns": null,
            "grid_auto_flow": null,
            "grid_auto_rows": null,
            "grid_column": null,
            "grid_gap": null,
            "grid_row": null,
            "grid_template_areas": null,
            "grid_template_columns": null,
            "grid_template_rows": null,
            "height": null,
            "justify_content": null,
            "justify_items": null,
            "left": null,
            "margin": null,
            "max_height": null,
            "max_width": null,
            "min_height": null,
            "min_width": null,
            "object_fit": null,
            "object_position": null,
            "order": null,
            "overflow": null,
            "overflow_x": null,
            "overflow_y": null,
            "padding": null,
            "right": null,
            "top": null,
            "visibility": null,
            "width": null
          }
        },
        "2f4d534f2798417fab36a3744e826282": {
          "model_module": "@jupyter-widgets/controls",
          "model_name": "DescriptionStyleModel",
          "model_module_version": "1.5.0",
          "state": {
            "_model_module": "@jupyter-widgets/controls",
            "_model_module_version": "1.5.0",
            "_model_name": "DescriptionStyleModel",
            "_view_count": null,
            "_view_module": "@jupyter-widgets/base",
            "_view_module_version": "1.2.0",
            "_view_name": "StyleView",
            "description_width": ""
          }
        },
        "9aec7293912247bc8fa88e64f93b6ef7": {
          "model_module": "@jupyter-widgets/base",
          "model_name": "LayoutModel",
          "model_module_version": "1.2.0",
          "state": {
            "_model_module": "@jupyter-widgets/base",
            "_model_module_version": "1.2.0",
            "_model_name": "LayoutModel",
            "_view_count": null,
            "_view_module": "@jupyter-widgets/base",
            "_view_module_version": "1.2.0",
            "_view_name": "LayoutView",
            "align_content": null,
            "align_items": null,
            "align_self": null,
            "border": null,
            "bottom": null,
            "display": null,
            "flex": null,
            "flex_flow": null,
            "grid_area": null,
            "grid_auto_columns": null,
            "grid_auto_flow": null,
            "grid_auto_rows": null,
            "grid_column": null,
            "grid_gap": null,
            "grid_row": null,
            "grid_template_areas": null,
            "grid_template_columns": null,
            "grid_template_rows": null,
            "height": null,
            "justify_content": null,
            "justify_items": null,
            "left": null,
            "margin": null,
            "max_height": null,
            "max_width": null,
            "min_height": null,
            "min_width": null,
            "object_fit": null,
            "object_position": null,
            "order": null,
            "overflow": null,
            "overflow_x": null,
            "overflow_y": null,
            "padding": null,
            "right": null,
            "top": null,
            "visibility": null,
            "width": null
          }
        },
        "c4a588782b08487d91eb2eeb13d8bf90": {
          "model_module": "@jupyter-widgets/controls",
          "model_name": "ProgressStyleModel",
          "model_module_version": "1.5.0",
          "state": {
            "_model_module": "@jupyter-widgets/controls",
            "_model_module_version": "1.5.0",
            "_model_name": "ProgressStyleModel",
            "_view_count": null,
            "_view_module": "@jupyter-widgets/base",
            "_view_module_version": "1.2.0",
            "_view_name": "StyleView",
            "bar_color": null,
            "description_width": ""
          }
        },
        "936c58cec462458cb98b3fd4b4f96197": {
          "model_module": "@jupyter-widgets/base",
          "model_name": "LayoutModel",
          "model_module_version": "1.2.0",
          "state": {
            "_model_module": "@jupyter-widgets/base",
            "_model_module_version": "1.2.0",
            "_model_name": "LayoutModel",
            "_view_count": null,
            "_view_module": "@jupyter-widgets/base",
            "_view_module_version": "1.2.0",
            "_view_name": "LayoutView",
            "align_content": null,
            "align_items": null,
            "align_self": null,
            "border": null,
            "bottom": null,
            "display": null,
            "flex": null,
            "flex_flow": null,
            "grid_area": null,
            "grid_auto_columns": null,
            "grid_auto_flow": null,
            "grid_auto_rows": null,
            "grid_column": null,
            "grid_gap": null,
            "grid_row": null,
            "grid_template_areas": null,
            "grid_template_columns": null,
            "grid_template_rows": null,
            "height": null,
            "justify_content": null,
            "justify_items": null,
            "left": null,
            "margin": null,
            "max_height": null,
            "max_width": null,
            "min_height": null,
            "min_width": null,
            "object_fit": null,
            "object_position": null,
            "order": null,
            "overflow": null,
            "overflow_x": null,
            "overflow_y": null,
            "padding": null,
            "right": null,
            "top": null,
            "visibility": null,
            "width": null
          }
        },
        "c65ef8ee3bcb452893d3cb45d55cfbdb": {
          "model_module": "@jupyter-widgets/controls",
          "model_name": "DescriptionStyleModel",
          "model_module_version": "1.5.0",
          "state": {
            "_model_module": "@jupyter-widgets/controls",
            "_model_module_version": "1.5.0",
            "_model_name": "DescriptionStyleModel",
            "_view_count": null,
            "_view_module": "@jupyter-widgets/base",
            "_view_module_version": "1.2.0",
            "_view_name": "StyleView",
            "description_width": ""
          }
        },
        "20d93b527ab64e51a25ea1d0f4a880c3": {
          "model_module": "@jupyter-widgets/controls",
          "model_name": "HBoxModel",
          "model_module_version": "1.5.0",
          "state": {
            "_dom_classes": [],
            "_model_module": "@jupyter-widgets/controls",
            "_model_module_version": "1.5.0",
            "_model_name": "HBoxModel",
            "_view_count": null,
            "_view_module": "@jupyter-widgets/controls",
            "_view_module_version": "1.5.0",
            "_view_name": "HBoxView",
            "box_style": "",
            "children": [
              "IPY_MODEL_87cb34236fe1464ebb7591776e2f9d56",
              "IPY_MODEL_37344277b2824e9192e417b36cf0f382",
              "IPY_MODEL_32bc702ab02f42c084ae61539ef0ea81"
            ],
            "layout": "IPY_MODEL_7a759acada104914b77d931db2602db1"
          }
        },
        "87cb34236fe1464ebb7591776e2f9d56": {
          "model_module": "@jupyter-widgets/controls",
          "model_name": "HTMLModel",
          "model_module_version": "1.5.0",
          "state": {
            "_dom_classes": [],
            "_model_module": "@jupyter-widgets/controls",
            "_model_module_version": "1.5.0",
            "_model_name": "HTMLModel",
            "_view_count": null,
            "_view_module": "@jupyter-widgets/controls",
            "_view_module_version": "1.5.0",
            "_view_name": "HTMLView",
            "description": "",
            "description_tooltip": null,
            "layout": "IPY_MODEL_b2f54013dd9541899eaa358e7531e19c",
            "placeholder": "​",
            "style": "IPY_MODEL_359857ae6aad4b33a0a617f4325679d5",
            "value": "special_tokens_map.json: 100%"
          }
        },
        "37344277b2824e9192e417b36cf0f382": {
          "model_module": "@jupyter-widgets/controls",
          "model_name": "FloatProgressModel",
          "model_module_version": "1.5.0",
          "state": {
            "_dom_classes": [],
            "_model_module": "@jupyter-widgets/controls",
            "_model_module_version": "1.5.0",
            "_model_name": "FloatProgressModel",
            "_view_count": null,
            "_view_module": "@jupyter-widgets/controls",
            "_view_module_version": "1.5.0",
            "_view_name": "ProgressView",
            "bar_style": "success",
            "description": "",
            "description_tooltip": null,
            "layout": "IPY_MODEL_bf9c9aedd9e84beb967554edf967acee",
            "max": 279,
            "min": 0,
            "orientation": "horizontal",
            "style": "IPY_MODEL_6883a05edd4645f2ba55175051cd2415",
            "value": 279
          }
        },
        "32bc702ab02f42c084ae61539ef0ea81": {
          "model_module": "@jupyter-widgets/controls",
          "model_name": "HTMLModel",
          "model_module_version": "1.5.0",
          "state": {
            "_dom_classes": [],
            "_model_module": "@jupyter-widgets/controls",
            "_model_module_version": "1.5.0",
            "_model_name": "HTMLModel",
            "_view_count": null,
            "_view_module": "@jupyter-widgets/controls",
            "_view_module_version": "1.5.0",
            "_view_name": "HTMLView",
            "description": "",
            "description_tooltip": null,
            "layout": "IPY_MODEL_6e3993041a5d4747a5ae9a691a834944",
            "placeholder": "​",
            "style": "IPY_MODEL_ecab3fa06a66476981da29858844dad0",
            "value": " 279/279 [00:00&lt;00:00, 15.4kB/s]"
          }
        },
        "7a759acada104914b77d931db2602db1": {
          "model_module": "@jupyter-widgets/base",
          "model_name": "LayoutModel",
          "model_module_version": "1.2.0",
          "state": {
            "_model_module": "@jupyter-widgets/base",
            "_model_module_version": "1.2.0",
            "_model_name": "LayoutModel",
            "_view_count": null,
            "_view_module": "@jupyter-widgets/base",
            "_view_module_version": "1.2.0",
            "_view_name": "LayoutView",
            "align_content": null,
            "align_items": null,
            "align_self": null,
            "border": null,
            "bottom": null,
            "display": null,
            "flex": null,
            "flex_flow": null,
            "grid_area": null,
            "grid_auto_columns": null,
            "grid_auto_flow": null,
            "grid_auto_rows": null,
            "grid_column": null,
            "grid_gap": null,
            "grid_row": null,
            "grid_template_areas": null,
            "grid_template_columns": null,
            "grid_template_rows": null,
            "height": null,
            "justify_content": null,
            "justify_items": null,
            "left": null,
            "margin": null,
            "max_height": null,
            "max_width": null,
            "min_height": null,
            "min_width": null,
            "object_fit": null,
            "object_position": null,
            "order": null,
            "overflow": null,
            "overflow_x": null,
            "overflow_y": null,
            "padding": null,
            "right": null,
            "top": null,
            "visibility": null,
            "width": null
          }
        },
        "b2f54013dd9541899eaa358e7531e19c": {
          "model_module": "@jupyter-widgets/base",
          "model_name": "LayoutModel",
          "model_module_version": "1.2.0",
          "state": {
            "_model_module": "@jupyter-widgets/base",
            "_model_module_version": "1.2.0",
            "_model_name": "LayoutModel",
            "_view_count": null,
            "_view_module": "@jupyter-widgets/base",
            "_view_module_version": "1.2.0",
            "_view_name": "LayoutView",
            "align_content": null,
            "align_items": null,
            "align_self": null,
            "border": null,
            "bottom": null,
            "display": null,
            "flex": null,
            "flex_flow": null,
            "grid_area": null,
            "grid_auto_columns": null,
            "grid_auto_flow": null,
            "grid_auto_rows": null,
            "grid_column": null,
            "grid_gap": null,
            "grid_row": null,
            "grid_template_areas": null,
            "grid_template_columns": null,
            "grid_template_rows": null,
            "height": null,
            "justify_content": null,
            "justify_items": null,
            "left": null,
            "margin": null,
            "max_height": null,
            "max_width": null,
            "min_height": null,
            "min_width": null,
            "object_fit": null,
            "object_position": null,
            "order": null,
            "overflow": null,
            "overflow_x": null,
            "overflow_y": null,
            "padding": null,
            "right": null,
            "top": null,
            "visibility": null,
            "width": null
          }
        },
        "359857ae6aad4b33a0a617f4325679d5": {
          "model_module": "@jupyter-widgets/controls",
          "model_name": "DescriptionStyleModel",
          "model_module_version": "1.5.0",
          "state": {
            "_model_module": "@jupyter-widgets/controls",
            "_model_module_version": "1.5.0",
            "_model_name": "DescriptionStyleModel",
            "_view_count": null,
            "_view_module": "@jupyter-widgets/base",
            "_view_module_version": "1.2.0",
            "_view_name": "StyleView",
            "description_width": ""
          }
        },
        "bf9c9aedd9e84beb967554edf967acee": {
          "model_module": "@jupyter-widgets/base",
          "model_name": "LayoutModel",
          "model_module_version": "1.2.0",
          "state": {
            "_model_module": "@jupyter-widgets/base",
            "_model_module_version": "1.2.0",
            "_model_name": "LayoutModel",
            "_view_count": null,
            "_view_module": "@jupyter-widgets/base",
            "_view_module_version": "1.2.0",
            "_view_name": "LayoutView",
            "align_content": null,
            "align_items": null,
            "align_self": null,
            "border": null,
            "bottom": null,
            "display": null,
            "flex": null,
            "flex_flow": null,
            "grid_area": null,
            "grid_auto_columns": null,
            "grid_auto_flow": null,
            "grid_auto_rows": null,
            "grid_column": null,
            "grid_gap": null,
            "grid_row": null,
            "grid_template_areas": null,
            "grid_template_columns": null,
            "grid_template_rows": null,
            "height": null,
            "justify_content": null,
            "justify_items": null,
            "left": null,
            "margin": null,
            "max_height": null,
            "max_width": null,
            "min_height": null,
            "min_width": null,
            "object_fit": null,
            "object_position": null,
            "order": null,
            "overflow": null,
            "overflow_x": null,
            "overflow_y": null,
            "padding": null,
            "right": null,
            "top": null,
            "visibility": null,
            "width": null
          }
        },
        "6883a05edd4645f2ba55175051cd2415": {
          "model_module": "@jupyter-widgets/controls",
          "model_name": "ProgressStyleModel",
          "model_module_version": "1.5.0",
          "state": {
            "_model_module": "@jupyter-widgets/controls",
            "_model_module_version": "1.5.0",
            "_model_name": "ProgressStyleModel",
            "_view_count": null,
            "_view_module": "@jupyter-widgets/base",
            "_view_module_version": "1.2.0",
            "_view_name": "StyleView",
            "bar_color": null,
            "description_width": ""
          }
        },
        "6e3993041a5d4747a5ae9a691a834944": {
          "model_module": "@jupyter-widgets/base",
          "model_name": "LayoutModel",
          "model_module_version": "1.2.0",
          "state": {
            "_model_module": "@jupyter-widgets/base",
            "_model_module_version": "1.2.0",
            "_model_name": "LayoutModel",
            "_view_count": null,
            "_view_module": "@jupyter-widgets/base",
            "_view_module_version": "1.2.0",
            "_view_name": "LayoutView",
            "align_content": null,
            "align_items": null,
            "align_self": null,
            "border": null,
            "bottom": null,
            "display": null,
            "flex": null,
            "flex_flow": null,
            "grid_area": null,
            "grid_auto_columns": null,
            "grid_auto_flow": null,
            "grid_auto_rows": null,
            "grid_column": null,
            "grid_gap": null,
            "grid_row": null,
            "grid_template_areas": null,
            "grid_template_columns": null,
            "grid_template_rows": null,
            "height": null,
            "justify_content": null,
            "justify_items": null,
            "left": null,
            "margin": null,
            "max_height": null,
            "max_width": null,
            "min_height": null,
            "min_width": null,
            "object_fit": null,
            "object_position": null,
            "order": null,
            "overflow": null,
            "overflow_x": null,
            "overflow_y": null,
            "padding": null,
            "right": null,
            "top": null,
            "visibility": null,
            "width": null
          }
        },
        "ecab3fa06a66476981da29858844dad0": {
          "model_module": "@jupyter-widgets/controls",
          "model_name": "DescriptionStyleModel",
          "model_module_version": "1.5.0",
          "state": {
            "_model_module": "@jupyter-widgets/controls",
            "_model_module_version": "1.5.0",
            "_model_name": "DescriptionStyleModel",
            "_view_count": null,
            "_view_module": "@jupyter-widgets/base",
            "_view_module_version": "1.2.0",
            "_view_name": "StyleView",
            "description_width": ""
          }
        },
        "d6b6652beeab46859a4e171941a87069": {
          "model_module": "@jupyter-widgets/controls",
          "model_name": "HBoxModel",
          "model_module_version": "1.5.0",
          "state": {
            "_dom_classes": [],
            "_model_module": "@jupyter-widgets/controls",
            "_model_module_version": "1.5.0",
            "_model_name": "HBoxModel",
            "_view_count": null,
            "_view_module": "@jupyter-widgets/controls",
            "_view_module_version": "1.5.0",
            "_view_name": "HBoxView",
            "box_style": "",
            "children": [
              "IPY_MODEL_385bc5c42f56424ba538e2683e70bdff",
              "IPY_MODEL_4f3665e83b594e87a9c4cfe9c52fbbe4",
              "IPY_MODEL_928db2d427dd475881d6ee96ac1161a6"
            ],
            "layout": "IPY_MODEL_7d07e94012e7477f9129bf08aa6f910c"
          }
        },
        "385bc5c42f56424ba538e2683e70bdff": {
          "model_module": "@jupyter-widgets/controls",
          "model_name": "HTMLModel",
          "model_module_version": "1.5.0",
          "state": {
            "_dom_classes": [],
            "_model_module": "@jupyter-widgets/controls",
            "_model_module_version": "1.5.0",
            "_model_name": "HTMLModel",
            "_view_count": null,
            "_view_module": "@jupyter-widgets/controls",
            "_view_module_version": "1.5.0",
            "_view_name": "HTMLView",
            "description": "",
            "description_tooltip": null,
            "layout": "IPY_MODEL_b97f2b723982479d93d2495f799ef238",
            "placeholder": "​",
            "style": "IPY_MODEL_a3ad1741bd6e459c8c211ac43b114246",
            "value": "config.json: 100%"
          }
        },
        "4f3665e83b594e87a9c4cfe9c52fbbe4": {
          "model_module": "@jupyter-widgets/controls",
          "model_name": "FloatProgressModel",
          "model_module_version": "1.5.0",
          "state": {
            "_dom_classes": [],
            "_model_module": "@jupyter-widgets/controls",
            "_model_module_version": "1.5.0",
            "_model_name": "FloatProgressModel",
            "_view_count": null,
            "_view_module": "@jupyter-widgets/controls",
            "_view_module_version": "1.5.0",
            "_view_name": "ProgressView",
            "bar_style": "success",
            "description": "",
            "description_tooltip": null,
            "layout": "IPY_MODEL_ea671036fa014c02a00eab3acdaf7f26",
            "max": 801,
            "min": 0,
            "orientation": "horizontal",
            "style": "IPY_MODEL_bca1a6ac81274b3b9d3645cbc43c4dd5",
            "value": 801
          }
        },
        "928db2d427dd475881d6ee96ac1161a6": {
          "model_module": "@jupyter-widgets/controls",
          "model_name": "HTMLModel",
          "model_module_version": "1.5.0",
          "state": {
            "_dom_classes": [],
            "_model_module": "@jupyter-widgets/controls",
            "_model_module_version": "1.5.0",
            "_model_name": "HTMLModel",
            "_view_count": null,
            "_view_module": "@jupyter-widgets/controls",
            "_view_module_version": "1.5.0",
            "_view_name": "HTMLView",
            "description": "",
            "description_tooltip": null,
            "layout": "IPY_MODEL_8a6bc32886514bdd94a9471944dc426e",
            "placeholder": "​",
            "style": "IPY_MODEL_d3bc8e64c00c4f21bd233778637ee5be",
            "value": " 801/801 [00:00&lt;00:00, 51.4kB/s]"
          }
        },
        "7d07e94012e7477f9129bf08aa6f910c": {
          "model_module": "@jupyter-widgets/base",
          "model_name": "LayoutModel",
          "model_module_version": "1.2.0",
          "state": {
            "_model_module": "@jupyter-widgets/base",
            "_model_module_version": "1.2.0",
            "_model_name": "LayoutModel",
            "_view_count": null,
            "_view_module": "@jupyter-widgets/base",
            "_view_module_version": "1.2.0",
            "_view_name": "LayoutView",
            "align_content": null,
            "align_items": null,
            "align_self": null,
            "border": null,
            "bottom": null,
            "display": null,
            "flex": null,
            "flex_flow": null,
            "grid_area": null,
            "grid_auto_columns": null,
            "grid_auto_flow": null,
            "grid_auto_rows": null,
            "grid_column": null,
            "grid_gap": null,
            "grid_row": null,
            "grid_template_areas": null,
            "grid_template_columns": null,
            "grid_template_rows": null,
            "height": null,
            "justify_content": null,
            "justify_items": null,
            "left": null,
            "margin": null,
            "max_height": null,
            "max_width": null,
            "min_height": null,
            "min_width": null,
            "object_fit": null,
            "object_position": null,
            "order": null,
            "overflow": null,
            "overflow_x": null,
            "overflow_y": null,
            "padding": null,
            "right": null,
            "top": null,
            "visibility": null,
            "width": null
          }
        },
        "b97f2b723982479d93d2495f799ef238": {
          "model_module": "@jupyter-widgets/base",
          "model_name": "LayoutModel",
          "model_module_version": "1.2.0",
          "state": {
            "_model_module": "@jupyter-widgets/base",
            "_model_module_version": "1.2.0",
            "_model_name": "LayoutModel",
            "_view_count": null,
            "_view_module": "@jupyter-widgets/base",
            "_view_module_version": "1.2.0",
            "_view_name": "LayoutView",
            "align_content": null,
            "align_items": null,
            "align_self": null,
            "border": null,
            "bottom": null,
            "display": null,
            "flex": null,
            "flex_flow": null,
            "grid_area": null,
            "grid_auto_columns": null,
            "grid_auto_flow": null,
            "grid_auto_rows": null,
            "grid_column": null,
            "grid_gap": null,
            "grid_row": null,
            "grid_template_areas": null,
            "grid_template_columns": null,
            "grid_template_rows": null,
            "height": null,
            "justify_content": null,
            "justify_items": null,
            "left": null,
            "margin": null,
            "max_height": null,
            "max_width": null,
            "min_height": null,
            "min_width": null,
            "object_fit": null,
            "object_position": null,
            "order": null,
            "overflow": null,
            "overflow_x": null,
            "overflow_y": null,
            "padding": null,
            "right": null,
            "top": null,
            "visibility": null,
            "width": null
          }
        },
        "a3ad1741bd6e459c8c211ac43b114246": {
          "model_module": "@jupyter-widgets/controls",
          "model_name": "DescriptionStyleModel",
          "model_module_version": "1.5.0",
          "state": {
            "_model_module": "@jupyter-widgets/controls",
            "_model_module_version": "1.5.0",
            "_model_name": "DescriptionStyleModel",
            "_view_count": null,
            "_view_module": "@jupyter-widgets/base",
            "_view_module_version": "1.2.0",
            "_view_name": "StyleView",
            "description_width": ""
          }
        },
        "ea671036fa014c02a00eab3acdaf7f26": {
          "model_module": "@jupyter-widgets/base",
          "model_name": "LayoutModel",
          "model_module_version": "1.2.0",
          "state": {
            "_model_module": "@jupyter-widgets/base",
            "_model_module_version": "1.2.0",
            "_model_name": "LayoutModel",
            "_view_count": null,
            "_view_module": "@jupyter-widgets/base",
            "_view_module_version": "1.2.0",
            "_view_name": "LayoutView",
            "align_content": null,
            "align_items": null,
            "align_self": null,
            "border": null,
            "bottom": null,
            "display": null,
            "flex": null,
            "flex_flow": null,
            "grid_area": null,
            "grid_auto_columns": null,
            "grid_auto_flow": null,
            "grid_auto_rows": null,
            "grid_column": null,
            "grid_gap": null,
            "grid_row": null,
            "grid_template_areas": null,
            "grid_template_columns": null,
            "grid_template_rows": null,
            "height": null,
            "justify_content": null,
            "justify_items": null,
            "left": null,
            "margin": null,
            "max_height": null,
            "max_width": null,
            "min_height": null,
            "min_width": null,
            "object_fit": null,
            "object_position": null,
            "order": null,
            "overflow": null,
            "overflow_x": null,
            "overflow_y": null,
            "padding": null,
            "right": null,
            "top": null,
            "visibility": null,
            "width": null
          }
        },
        "bca1a6ac81274b3b9d3645cbc43c4dd5": {
          "model_module": "@jupyter-widgets/controls",
          "model_name": "ProgressStyleModel",
          "model_module_version": "1.5.0",
          "state": {
            "_model_module": "@jupyter-widgets/controls",
            "_model_module_version": "1.5.0",
            "_model_name": "ProgressStyleModel",
            "_view_count": null,
            "_view_module": "@jupyter-widgets/base",
            "_view_module_version": "1.2.0",
            "_view_name": "StyleView",
            "bar_color": null,
            "description_width": ""
          }
        },
        "8a6bc32886514bdd94a9471944dc426e": {
          "model_module": "@jupyter-widgets/base",
          "model_name": "LayoutModel",
          "model_module_version": "1.2.0",
          "state": {
            "_model_module": "@jupyter-widgets/base",
            "_model_module_version": "1.2.0",
            "_model_name": "LayoutModel",
            "_view_count": null,
            "_view_module": "@jupyter-widgets/base",
            "_view_module_version": "1.2.0",
            "_view_name": "LayoutView",
            "align_content": null,
            "align_items": null,
            "align_self": null,
            "border": null,
            "bottom": null,
            "display": null,
            "flex": null,
            "flex_flow": null,
            "grid_area": null,
            "grid_auto_columns": null,
            "grid_auto_flow": null,
            "grid_auto_rows": null,
            "grid_column": null,
            "grid_gap": null,
            "grid_row": null,
            "grid_template_areas": null,
            "grid_template_columns": null,
            "grid_template_rows": null,
            "height": null,
            "justify_content": null,
            "justify_items": null,
            "left": null,
            "margin": null,
            "max_height": null,
            "max_width": null,
            "min_height": null,
            "min_width": null,
            "object_fit": null,
            "object_position": null,
            "order": null,
            "overflow": null,
            "overflow_x": null,
            "overflow_y": null,
            "padding": null,
            "right": null,
            "top": null,
            "visibility": null,
            "width": null
          }
        },
        "d3bc8e64c00c4f21bd233778637ee5be": {
          "model_module": "@jupyter-widgets/controls",
          "model_name": "DescriptionStyleModel",
          "model_module_version": "1.5.0",
          "state": {
            "_model_module": "@jupyter-widgets/controls",
            "_model_module_version": "1.5.0",
            "_model_name": "DescriptionStyleModel",
            "_view_count": null,
            "_view_module": "@jupyter-widgets/base",
            "_view_module_version": "1.2.0",
            "_view_name": "StyleView",
            "description_width": ""
          }
        },
        "f6bb7ba5bf264734b9026b29413ded4b": {
          "model_module": "@jupyter-widgets/controls",
          "model_name": "HBoxModel",
          "model_module_version": "1.5.0",
          "state": {
            "_dom_classes": [],
            "_model_module": "@jupyter-widgets/controls",
            "_model_module_version": "1.5.0",
            "_model_name": "HBoxModel",
            "_view_count": null,
            "_view_module": "@jupyter-widgets/controls",
            "_view_module_version": "1.5.0",
            "_view_name": "HBoxView",
            "box_style": "",
            "children": [
              "IPY_MODEL_8d1560c9dfbf465e84b3aad993a137ea",
              "IPY_MODEL_00c8cf31e3eb446fa4b070db5954e66b",
              "IPY_MODEL_ec479a81c2a749d392a66d1d32b82181"
            ],
            "layout": "IPY_MODEL_c7511d2406da4b19976345cdda6fb749"
          }
        },
        "8d1560c9dfbf465e84b3aad993a137ea": {
          "model_module": "@jupyter-widgets/controls",
          "model_name": "HTMLModel",
          "model_module_version": "1.5.0",
          "state": {
            "_dom_classes": [],
            "_model_module": "@jupyter-widgets/controls",
            "_model_module_version": "1.5.0",
            "_model_name": "HTMLModel",
            "_view_count": null,
            "_view_module": "@jupyter-widgets/controls",
            "_view_module_version": "1.5.0",
            "_view_name": "HTMLView",
            "description": "",
            "description_tooltip": null,
            "layout": "IPY_MODEL_116874bbf3b246ff80d802e0005df1bb",
            "placeholder": "​",
            "style": "IPY_MODEL_55f7bf7f44f74eb885bd2d1671e4a515",
            "value": "model.safetensors: 100%"
          }
        },
        "00c8cf31e3eb446fa4b070db5954e66b": {
          "model_module": "@jupyter-widgets/controls",
          "model_name": "FloatProgressModel",
          "model_module_version": "1.5.0",
          "state": {
            "_dom_classes": [],
            "_model_module": "@jupyter-widgets/controls",
            "_model_module_version": "1.5.0",
            "_model_name": "FloatProgressModel",
            "_view_count": null,
            "_view_module": "@jupyter-widgets/controls",
            "_view_module_version": "1.5.0",
            "_view_name": "ProgressView",
            "bar_style": "success",
            "description": "",
            "description_tooltip": null,
            "layout": "IPY_MODEL_bd22d61a3a634397b84cfadb0022ef01",
            "max": 2239618772,
            "min": 0,
            "orientation": "horizontal",
            "style": "IPY_MODEL_ee4e50266c674455b2bf3e19b7f606ce",
            "value": 2239618772
          }
        },
        "ec479a81c2a749d392a66d1d32b82181": {
          "model_module": "@jupyter-widgets/controls",
          "model_name": "HTMLModel",
          "model_module_version": "1.5.0",
          "state": {
            "_dom_classes": [],
            "_model_module": "@jupyter-widgets/controls",
            "_model_module_version": "1.5.0",
            "_model_name": "HTMLModel",
            "_view_count": null,
            "_view_module": "@jupyter-widgets/controls",
            "_view_module_version": "1.5.0",
            "_view_name": "HTMLView",
            "description": "",
            "description_tooltip": null,
            "layout": "IPY_MODEL_489ade19561c423e967880e464bfde1d",
            "placeholder": "​",
            "style": "IPY_MODEL_820b4d28cfea45d9bc7b4a2169d7e9a8",
            "value": " 2.24G/2.24G [00:14&lt;00:00, 208MB/s]"
          }
        },
        "c7511d2406da4b19976345cdda6fb749": {
          "model_module": "@jupyter-widgets/base",
          "model_name": "LayoutModel",
          "model_module_version": "1.2.0",
          "state": {
            "_model_module": "@jupyter-widgets/base",
            "_model_module_version": "1.2.0",
            "_model_name": "LayoutModel",
            "_view_count": null,
            "_view_module": "@jupyter-widgets/base",
            "_view_module_version": "1.2.0",
            "_view_name": "LayoutView",
            "align_content": null,
            "align_items": null,
            "align_self": null,
            "border": null,
            "bottom": null,
            "display": null,
            "flex": null,
            "flex_flow": null,
            "grid_area": null,
            "grid_auto_columns": null,
            "grid_auto_flow": null,
            "grid_auto_rows": null,
            "grid_column": null,
            "grid_gap": null,
            "grid_row": null,
            "grid_template_areas": null,
            "grid_template_columns": null,
            "grid_template_rows": null,
            "height": null,
            "justify_content": null,
            "justify_items": null,
            "left": null,
            "margin": null,
            "max_height": null,
            "max_width": null,
            "min_height": null,
            "min_width": null,
            "object_fit": null,
            "object_position": null,
            "order": null,
            "overflow": null,
            "overflow_x": null,
            "overflow_y": null,
            "padding": null,
            "right": null,
            "top": null,
            "visibility": null,
            "width": null
          }
        },
        "116874bbf3b246ff80d802e0005df1bb": {
          "model_module": "@jupyter-widgets/base",
          "model_name": "LayoutModel",
          "model_module_version": "1.2.0",
          "state": {
            "_model_module": "@jupyter-widgets/base",
            "_model_module_version": "1.2.0",
            "_model_name": "LayoutModel",
            "_view_count": null,
            "_view_module": "@jupyter-widgets/base",
            "_view_module_version": "1.2.0",
            "_view_name": "LayoutView",
            "align_content": null,
            "align_items": null,
            "align_self": null,
            "border": null,
            "bottom": null,
            "display": null,
            "flex": null,
            "flex_flow": null,
            "grid_area": null,
            "grid_auto_columns": null,
            "grid_auto_flow": null,
            "grid_auto_rows": null,
            "grid_column": null,
            "grid_gap": null,
            "grid_row": null,
            "grid_template_areas": null,
            "grid_template_columns": null,
            "grid_template_rows": null,
            "height": null,
            "justify_content": null,
            "justify_items": null,
            "left": null,
            "margin": null,
            "max_height": null,
            "max_width": null,
            "min_height": null,
            "min_width": null,
            "object_fit": null,
            "object_position": null,
            "order": null,
            "overflow": null,
            "overflow_x": null,
            "overflow_y": null,
            "padding": null,
            "right": null,
            "top": null,
            "visibility": null,
            "width": null
          }
        },
        "55f7bf7f44f74eb885bd2d1671e4a515": {
          "model_module": "@jupyter-widgets/controls",
          "model_name": "DescriptionStyleModel",
          "model_module_version": "1.5.0",
          "state": {
            "_model_module": "@jupyter-widgets/controls",
            "_model_module_version": "1.5.0",
            "_model_name": "DescriptionStyleModel",
            "_view_count": null,
            "_view_module": "@jupyter-widgets/base",
            "_view_module_version": "1.2.0",
            "_view_name": "StyleView",
            "description_width": ""
          }
        },
        "bd22d61a3a634397b84cfadb0022ef01": {
          "model_module": "@jupyter-widgets/base",
          "model_name": "LayoutModel",
          "model_module_version": "1.2.0",
          "state": {
            "_model_module": "@jupyter-widgets/base",
            "_model_module_version": "1.2.0",
            "_model_name": "LayoutModel",
            "_view_count": null,
            "_view_module": "@jupyter-widgets/base",
            "_view_module_version": "1.2.0",
            "_view_name": "LayoutView",
            "align_content": null,
            "align_items": null,
            "align_self": null,
            "border": null,
            "bottom": null,
            "display": null,
            "flex": null,
            "flex_flow": null,
            "grid_area": null,
            "grid_auto_columns": null,
            "grid_auto_flow": null,
            "grid_auto_rows": null,
            "grid_column": null,
            "grid_gap": null,
            "grid_row": null,
            "grid_template_areas": null,
            "grid_template_columns": null,
            "grid_template_rows": null,
            "height": null,
            "justify_content": null,
            "justify_items": null,
            "left": null,
            "margin": null,
            "max_height": null,
            "max_width": null,
            "min_height": null,
            "min_width": null,
            "object_fit": null,
            "object_position": null,
            "order": null,
            "overflow": null,
            "overflow_x": null,
            "overflow_y": null,
            "padding": null,
            "right": null,
            "top": null,
            "visibility": null,
            "width": null
          }
        },
        "ee4e50266c674455b2bf3e19b7f606ce": {
          "model_module": "@jupyter-widgets/controls",
          "model_name": "ProgressStyleModel",
          "model_module_version": "1.5.0",
          "state": {
            "_model_module": "@jupyter-widgets/controls",
            "_model_module_version": "1.5.0",
            "_model_name": "ProgressStyleModel",
            "_view_count": null,
            "_view_module": "@jupyter-widgets/base",
            "_view_module_version": "1.2.0",
            "_view_name": "StyleView",
            "bar_color": null,
            "description_width": ""
          }
        },
        "489ade19561c423e967880e464bfde1d": {
          "model_module": "@jupyter-widgets/base",
          "model_name": "LayoutModel",
          "model_module_version": "1.2.0",
          "state": {
            "_model_module": "@jupyter-widgets/base",
            "_model_module_version": "1.2.0",
            "_model_name": "LayoutModel",
            "_view_count": null,
            "_view_module": "@jupyter-widgets/base",
            "_view_module_version": "1.2.0",
            "_view_name": "LayoutView",
            "align_content": null,
            "align_items": null,
            "align_self": null,
            "border": null,
            "bottom": null,
            "display": null,
            "flex": null,
            "flex_flow": null,
            "grid_area": null,
            "grid_auto_columns": null,
            "grid_auto_flow": null,
            "grid_auto_rows": null,
            "grid_column": null,
            "grid_gap": null,
            "grid_row": null,
            "grid_template_areas": null,
            "grid_template_columns": null,
            "grid_template_rows": null,
            "height": null,
            "justify_content": null,
            "justify_items": null,
            "left": null,
            "margin": null,
            "max_height": null,
            "max_width": null,
            "min_height": null,
            "min_width": null,
            "object_fit": null,
            "object_position": null,
            "order": null,
            "overflow": null,
            "overflow_x": null,
            "overflow_y": null,
            "padding": null,
            "right": null,
            "top": null,
            "visibility": null,
            "width": null
          }
        },
        "820b4d28cfea45d9bc7b4a2169d7e9a8": {
          "model_module": "@jupyter-widgets/controls",
          "model_name": "DescriptionStyleModel",
          "model_module_version": "1.5.0",
          "state": {
            "_model_module": "@jupyter-widgets/controls",
            "_model_module_version": "1.5.0",
            "_model_name": "DescriptionStyleModel",
            "_view_count": null,
            "_view_module": "@jupyter-widgets/base",
            "_view_module_version": "1.2.0",
            "_view_name": "StyleView",
            "description_width": ""
          }
        }
      }
    }
  },
  "nbformat": 4,
  "nbformat_minor": 0
}