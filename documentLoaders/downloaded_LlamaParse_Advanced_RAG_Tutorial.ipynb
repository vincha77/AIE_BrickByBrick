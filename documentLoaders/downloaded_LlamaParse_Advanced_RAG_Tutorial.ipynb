{
  "cells": [
    {
      "cell_type": "markdown",
      "metadata": {},
      "source": [
        "# Acknowledgement\n",
        "\n",
        "This notebook is downloaded from the link below.\n",
        "\n",
        "https://github.com/run-llama/llama_parse/blob/main/examples/demo_advanced.ipynb\n",
        "\n",
        "This is part of the repo: \n",
        "\n",
        "https://github.com/run-llama/llama_parse/tree/main\n",
        "\n",
        "\n",
        "The above repo contains a ton of detail on LLamaParse, a powerful tool to read pdf files with tables,\n"
      ]
    },
    {
      "cell_type": "markdown",
      "metadata": {},
      "source": [
        "<a href=\"https://colab.research.google.com/github/run-llama/llama_parse/blob/main/examples/demo_advanced.ipynb\" target=\"_parent\"><img src=\"https://colab.research.google.com/assets/colab-badge.svg\" alt=\"Open In Colab\"/></a>\n"
      ]
    },
    {
      "cell_type": "markdown",
      "metadata": {
        "id": "sJS7uzsGt0Av"
      },
      "source": [
        "# Advanced RAG with LlamaParse\n",
        "\n",
        "This notebook is a complete walkthrough for using LlamaParse with advanced indexing/retrieval techniques in LlamaIndex over the Apple 10K Filing.\n",
        "\n",
        "This allows us to ask sophisticated questions that aren't possible with \"naive\" parsing/indexing techniques with existing models.\n",
        "\n",
        "Note for this example, we are using the `llama_index >=0.10.4` version"
      ]
    },
    {
      "cell_type": "code",
      "execution_count": null,
      "metadata": {
        "id": "pn5G9APTt0Ax"
      },
      "outputs": [],
      "source": [
        "!pip install llama-index\n",
        "!pip install llama-index-core==0.10.6.post1\n",
        "!pip install llama-index-embeddings-openai\n",
        "!pip install llama-index-postprocessor-flag-embedding-reranker\n",
        "!pip install git+https://github.com/FlagOpen/FlagEmbedding.git\n",
        "!pip install llama-parse"
      ]
    },
    {
      "cell_type": "code",
      "execution_count": null,
      "metadata": {
        "id": "3vJ2XcK5t0Ay"
      },
      "outputs": [],
      "source": [
        "!wget \"https://s2.q4cdn.com/470004039/files/doc_financials/2021/q4/_10-K-2021-(As-Filed).pdf\" -O apple_2021_10k.pdf"
      ]
    },
    {
      "cell_type": "markdown",
      "metadata": {
        "id": "vidjR9YAt0Ay"
      },
      "source": [
        "Some OpenAI and LlamaParse details"
      ]
    },
    {
      "cell_type": "code",
      "execution_count": null,
      "metadata": {
        "id": "0IannmORt0Ay"
      },
      "outputs": [],
      "source": [
        "# llama-parse is async-first, running the async code in a notebook requires the use of nest_asyncio\n",
        "import nest_asyncio\n",
        "\n",
        "nest_asyncio.apply()\n",
        "\n",
        "import os\n",
        "\n",
        "# API access to llama-cloud\n",
        "os.environ[\"LLAMA_CLOUD_API_KEY\"] = \"llx-...\"\n",
        "\n",
        "# Using OpenAI API for embeddings/llms\n",
        "os.environ[\"OPENAI_API_KEY\"] = \"sk-...\""
      ]
    },
    {
      "cell_type": "code",
      "execution_count": null,
      "metadata": {
        "id": "wKvrnD95t0Az"
      },
      "outputs": [],
      "source": [
        "from llama_index.llms.openai import OpenAI\n",
        "from llama_index.embeddings.openai import OpenAIEmbedding\n",
        "from llama_index.core import VectorStoreIndex\n",
        "from llama_index.core import Settings\n",
        "\n",
        "embed_model = OpenAIEmbedding(model=\"text-embedding-3-small\")\n",
        "llm = OpenAI(model=\"gpt-3.5-turbo-0125\")\n",
        "\n",
        "Settings.llm = llm\n",
        "Settings.embed_model = embed_model"
      ]
    },
    {
      "cell_type": "markdown",
      "metadata": {
        "id": "TKY9PuRrt0Az"
      },
      "source": [
        "## Using brand new `LlamaParse` PDF reader for PDF Parsing\n",
        "\n",
        "we also compare two different retrieval/query engine strategies:\n",
        "1. Using raw Markdown text as nodes for building index and apply simple query engine for generating the results;\n",
        "2. Using `MarkdownElementNodeParser` for parsing the `LlamaParse` output Markdown results and building recursive retriever query engine for generation."
      ]
    },
    {
      "cell_type": "code",
      "execution_count": null,
      "metadata": {
        "id": "BCBfjxbet0Az",
        "outputId": "1ffb8fb7-0831-478a-d948-402ed9e5d89f"
      },
      "outputs": [],
      "source": [
        "from llama_parse import LlamaParse\n",
        "\n",
        "documents = LlamaParse(result_type=\"markdown\").load_data(\"./apple_2021_10k.pdf\")"
      ]
    },
    {
      "cell_type": "code",
      "execution_count": null,
      "metadata": {
        "id": "sok2RgvHt0A0"
      },
      "outputs": [],
      "source": [
        "from copy import deepcopy\n",
        "from llama_index.core.schema import TextNode\n",
        "from llama_index.core import VectorStoreIndex\n",
        "\n",
        "\n",
        "def get_page_nodes(docs, separator=\"\\n---\\n\"):\n",
        "    \"\"\"Split each document into page node, by separator.\"\"\"\n",
        "    nodes = []\n",
        "    for doc in docs:\n",
        "        doc_chunks = doc.text.split(separator)\n",
        "        for doc_chunk in doc_chunks:\n",
        "            node = TextNode(\n",
        "                text=doc_chunk,\n",
        "                metadata=deepcopy(doc.metadata),\n",
        "            )\n",
        "            nodes.append(node)\n",
        "\n",
        "    return nodes"
      ]
    },
    {
      "cell_type": "code",
      "execution_count": null,
      "metadata": {
        "id": "aTzjyEWnt0A1"
      },
      "outputs": [],
      "source": [
        "page_nodes = get_page_nodes(documents)"
      ]
    },
    {
      "cell_type": "code",
      "execution_count": null,
      "metadata": {
        "id": "qUxn0oHQt0A1"
      },
      "outputs": [],
      "source": [
        "from llama_index.core.node_parser import MarkdownElementNodeParser\n",
        "\n",
        "node_parser = MarkdownElementNodeParser(\n",
        "    llm=OpenAI(model=\"gpt-3.5-turbo-0125\"), num_workers=8\n",
        ")"
      ]
    },
    {
      "cell_type": "code",
      "execution_count": null,
      "metadata": {
        "id": "S2tVpBWit0A1"
      },
      "outputs": [],
      "source": [
        "nodes = node_parser.get_nodes_from_documents(documents)"
      ]
    },
    {
      "cell_type": "code",
      "execution_count": null,
      "metadata": {
        "id": "bZBI4Nq1t0A2"
      },
      "outputs": [],
      "source": [
        "base_nodes, objects = node_parser.get_nodes_and_objects(nodes)"
      ]
    },
    {
      "cell_type": "code",
      "execution_count": null,
      "metadata": {
        "id": "ehuLw1pEt0A2",
        "outputId": "f6485b54-e4f4-4048-d501-59478adbb951"
      },
      "outputs": [],
      "source": [
        "objects[0].get_content()"
      ]
    },
    {
      "cell_type": "code",
      "execution_count": null,
      "metadata": {
        "id": "COebJP-zt0A2"
      },
      "outputs": [],
      "source": [
        "# dump both indexed tables and page text into the vector index\n",
        "recursive_index = VectorStoreIndex(nodes=base_nodes + objects + page_nodes)"
      ]
    },
    {
      "cell_type": "code",
      "execution_count": null,
      "metadata": {
        "id": "TDXKTDqqt0A2",
        "outputId": "deb69be0-3ec0-46e3-c4fb-4924cd6ce2b9"
      },
      "outputs": [],
      "source": [
        "print(page_nodes[31].get_content())"
      ]
    },
    {
      "cell_type": "code",
      "execution_count": null,
      "metadata": {
        "id": "4FrAx1SFt0A3"
      },
      "outputs": [],
      "source": [
        "from llama_index.postprocessor.flag_embedding_reranker import FlagEmbeddingReranker\n",
        "\n",
        "reranker = FlagEmbeddingReranker(\n",
        "    top_n=5,\n",
        "    model=\"BAAI/bge-reranker-large\",\n",
        ")\n",
        "\n",
        "recursive_query_engine = recursive_index.as_query_engine(\n",
        "    similarity_top_k=5, node_postprocessors=[reranker], verbose=True\n",
        ")"
      ]
    },
    {
      "cell_type": "code",
      "execution_count": null,
      "metadata": {
        "id": "rTJrpX2qt0A3",
        "outputId": "4670f824-ef9d-4158-ca59-a0afefd3c340"
      },
      "outputs": [],
      "source": [
        "print(len(nodes))"
      ]
    },
    {
      "cell_type": "markdown",
      "metadata": {
        "id": "GWe8JSFGt0A3"
      },
      "source": [
        "## Setup Baseline\n",
        "\n",
        "For comparison, we setup a naive RAG pipeline with default parsing and standard chunking, indexing, retrieval."
      ]
    },
    {
      "cell_type": "code",
      "execution_count": null,
      "metadata": {
        "id": "bsJVxOXUt0A3"
      },
      "outputs": [],
      "source": [
        "from llama_index.core import SimpleDirectoryReader\n",
        "\n",
        "reader = SimpleDirectoryReader(input_files=[\"apple_2021_10k.pdf\"])\n",
        "base_docs = reader.load_data()\n",
        "raw_index = VectorStoreIndex.from_documents(base_docs)\n",
        "raw_query_engine = raw_index.as_query_engine(\n",
        "    similarity_top_k=5, node_postprocessors=[reranker]\n",
        ")"
      ]
    },
    {
      "cell_type": "markdown",
      "metadata": {
        "id": "YoUcUqJ2t0A3"
      },
      "source": [
        "## Using `new LlamaParse` as pdf data parsing methods and retrieve tables with two different methods\n",
        "we compare base query engine vs recursive query engine with tables"
      ]
    },
    {
      "cell_type": "markdown",
      "metadata": {
        "id": "cmBgi6lLt0A3"
      },
      "source": [
        "### Table Query Task: Queries for Table Question Answering"
      ]
    },
    {
      "cell_type": "code",
      "execution_count": null,
      "metadata": {
        "id": "3Uikf2xLt0A3",
        "outputId": "909acdd3-022c-432b-c32a-ef4ca522d539"
      },
      "outputs": [],
      "source": [
        "query = \"Purchases of marketable securities in 2020\"\n",
        "\n",
        "response_1 = raw_query_engine.query(query)\n",
        "print(\"\\n***********Basic Query Engine***********\")\n",
        "print(response_1)\n",
        "\n",
        "response_2 = recursive_query_engine.query(query)\n",
        "print(\"\\n***********New LlamaParse+ Recursive Retriever Query Engine***********\")\n",
        "print(response_2)"
      ]
    },
    {
      "cell_type": "code",
      "execution_count": null,
      "metadata": {
        "id": "SwBQ7vIvt0A3",
        "outputId": "085e72ce-91a0-48f2-dd5c-5ea20f0bf73d"
      },
      "outputs": [],
      "source": [
        "print(response_2.source_nodes[2].get_content())"
      ]
    },
    {
      "cell_type": "code",
      "execution_count": null,
      "metadata": {
        "id": "jPck9AQEt0A3",
        "outputId": "0ceefffc-68fd-4d31-8465-6ef921e389e3"
      },
      "outputs": [],
      "source": [
        "query = \"effective interest rates of all debt issuances in 2021\"\n",
        "\n",
        "response_1 = raw_query_engine.query(query)\n",
        "print(\"\\n***********Basic Query Engine***********\")\n",
        "print(response_1)\n",
        "\n",
        "response_2 = recursive_query_engine.query(query)\n",
        "print(\"\\n***********New LlamaParse+ Recursive Retriever Query Engine***********\")\n",
        "print(response_2)"
      ]
    },
    {
      "cell_type": "code",
      "execution_count": null,
      "metadata": {
        "id": "SM4EXU6qt0A4",
        "outputId": "6e7909d0-68fa-489d-d8d7-a5f049da91d7"
      },
      "outputs": [],
      "source": [
        "print(response_1.source_nodes[0].get_content())"
      ]
    },
    {
      "cell_type": "code",
      "execution_count": null,
      "metadata": {
        "id": "PQ-COGy8t0A4",
        "outputId": "71d9aebf-bc2f-4bc1-bc9f-fb2a215c04b7"
      },
      "outputs": [],
      "source": [
        "query = \"Impacts of the U.S. Tax Cuts and Jobs Act of 2017 on income taxes in 2020\"\n",
        "\n",
        "response_1 = raw_query_engine.query(query)\n",
        "print(\"\\n***********Basic Query Engine***********\")\n",
        "print(response_1)\n",
        "\n",
        "response_2 = recursive_query_engine.query(query)\n",
        "print(\"\\n***********New LlamaParse+ Recursive Retriever Query Engine***********\")\n",
        "print(response_2)"
      ]
    },
    {
      "cell_type": "code",
      "execution_count": null,
      "metadata": {
        "id": "DD7H8gBDt0A4",
        "outputId": "a87f93c1-5d94-4c07-bd16-370882627bbd"
      },
      "outputs": [],
      "source": [
        "print(response_1.source_nodes[0].get_content())"
      ]
    },
    {
      "cell_type": "code",
      "execution_count": null,
      "metadata": {
        "id": "zzD5z4eit0A4",
        "outputId": "3776a9a7-af55-44df-805d-aa35c1b2a89d"
      },
      "outputs": [],
      "source": [
        "query = \"federal deferred tax in 2019-2021\"\n",
        "\n",
        "response_1 = raw_query_engine.query(query)\n",
        "print(\"\\n***********Basic Query Engine***********\")\n",
        "print(response_1)\n",
        "\n",
        "response_2 = recursive_query_engine.query(query)\n",
        "print(\"\\n***********New LlamaParse+ Recursive Retriever Query Engine***********\")\n",
        "print(response_2)"
      ]
    },
    {
      "cell_type": "code",
      "execution_count": null,
      "metadata": {
        "id": "nkeUL8TUt0A4",
        "outputId": "020170d6-7dc2-4d0f-94fe-d81208e8d076"
      },
      "outputs": [],
      "source": [
        "query = \"give me the deferred state income tax in 2019-2021 (include +/-)\"\n",
        "\n",
        "response_1 = raw_query_engine.query(query)\n",
        "print(\"\\n***********Basic Query Engine***********\")\n",
        "print(response_1)\n",
        "\n",
        "response_2 = recursive_query_engine.query(query)\n",
        "print(\"\\n***********New LlamaParse+ Recursive Retriever Query Engine***********\")\n",
        "print(response_2)"
      ]
    },
    {
      "cell_type": "code",
      "execution_count": null,
      "metadata": {
        "id": "VzldzVyTt0A4",
        "outputId": "e37f4bda-a1d4-4cae-bd6b-aea1822acccc"
      },
      "outputs": [],
      "source": [
        "print(response_2.source_nodes[0].get_content())"
      ]
    },
    {
      "cell_type": "code",
      "execution_count": null,
      "metadata": {
        "id": "Y_NBDPfMt0A4",
        "outputId": "d343ca0e-e5a7-42e7-a023-189a6bebf045"
      },
      "outputs": [],
      "source": [
        "query = \"current state taxes per year in 2019-2021 (include +/-)\"\n",
        "\n",
        "response_1 = raw_query_engine.query(query)\n",
        "print(\"\\n***********Basic Query Engine***********\")\n",
        "print(response_1)\n",
        "\n",
        "response_2 = recursive_query_engine.query(query)\n",
        "print(\"\\n***********New LlamaParse+ Recursive Retriever Query Engine***********\")\n",
        "print(response_2)"
      ]
    }
  ],
  "metadata": {
    "colab": {
      "provenance": []
    },
    "kernelspec": {
      "display_name": "aie4challenge",
      "language": "python",
      "name": "python3"
    },
    "language_info": {
      "codemirror_mode": {
        "name": "ipython",
        "version": 3
      },
      "file_extension": ".py",
      "mimetype": "text/x-python",
      "name": "python",
      "nbconvert_exporter": "python",
      "pygments_lexer": "ipython3",
      "version": "3.11.5"
    }
  },
  "nbformat": 4,
  "nbformat_minor": 0
}
